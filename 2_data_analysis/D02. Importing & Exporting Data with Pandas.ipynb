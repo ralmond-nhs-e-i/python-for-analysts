{
 "cells": [
  {
   "cell_type": "markdown",
   "metadata": {},
   "source": [
    "# D02: Importing & Exporting data with Pandas"
   ]
  },
  {
   "cell_type": "markdown",
   "metadata": {},
   "source": [
    "We'll start our introduction to pandas by looking at ways in which we read in, or import data in to be analysed and visualised."
   ]
  },
  {
   "cell_type": "markdown",
   "metadata": {},
   "source": [
    "Pandas can read a variety of data in, in a variety of formats. In this lesson we'll look at some of the more common data types and the syntax and options you have to read these in."
   ]
  },
  {
   "cell_type": "markdown",
   "metadata": {
    "collapsed": true
   },
   "source": [
    "## CSV data"
   ]
  },
  {
   "cell_type": "markdown",
   "metadata": {},
   "source": [
    "CSV stands for comma separated values. It is essentially a plan text file, the likes of which you can create with notepad or a text editor where the data values are separated by commas. Note that the csv file can have variants (e.g. a tab separated values or TSV file) and often the data will be separated by other separators such as spaces, pipes or semi colons."
   ]
  },
  {
   "cell_type": "markdown",
   "metadata": {},
   "source": [
    "For now we're going to look at how we import a simple csv file using pandas. I've uploaded some data from gov.uk onto an AWS server where we can access it directly without the need to download it."
   ]
  },
  {
   "cell_type": "code",
   "execution_count": 2,
   "metadata": {
    "collapsed": false
   },
   "outputs": [
    {
     "output_type": "execute_result",
     "data": {
      "text/plain": [
       "  VTS Site Number               VTS Trading Name  \\\n",
       "0          0003AW  M AND T TRANSMISSIONS LIMITED   \n",
       "1          0003BY   M & D SERVICES (BRISTOL) LTD   \n",
       "2          0004B1         PANTEG SERVICE STATION   \n",
       "3          0005A2           HAVELOCK ROAD GARAGE   \n",
       "4          0005B0                      STONEACRE   \n",
       "\n",
       "              VTS Address Line 1 VTS Address Line 2 VTS Address Line 3  \\\n",
       "0               120 BRADWAY ROAD                NaN                NaN   \n",
       "1  UNIT 1 BALACLAVA ROAD IND EST       RIDGWAY ROAD          FISHPONDS   \n",
       "2                     STATION RD      GRIFFITHSTOWN                NaN   \n",
       "3                  HAVELOCK ROAD              BALBY                NaN   \n",
       "4                  ROWSON STREET       NEW BRIGHTON                NaN   \n",
       "\n",
       "  VTS Address Line 4 VTS Post Code VTS Telephone Number VTS Fax Number    1  \\\n",
       "0          SHEFFIELD       S17 4QW         '01142363617   '01142621012  NaN   \n",
       "1            BRISTOL      BS16 3LJ         '01179651900   '01179650651  NaN   \n",
       "2          PONTYPOOL       NP4 5JH         '01495755140  '014795760771  NaN   \n",
       "3          DONCASTER       DN4 8AQ         '01302363860              '  NaN   \n",
       "4           WALLASEY      CH45 2NA         '01516398121   '01516390748  NaN   \n",
       "\n",
       "     2    3  4   4A    5   5A    7  \n",
       "0  NaN  NaN  Y  NaN  NaN  NaN  NaN  \n",
       "1  NaN  NaN  Y  NaN    Y  NaN    Y  \n",
       "2  NaN  NaN  Y  NaN  NaN  NaN  NaN  \n",
       "3  NaN  NaN  Y  NaN  NaN  NaN  NaN  \n",
       "4  NaN  NaN  Y  NaN  NaN  NaN  NaN  "
      ],
      "text/html": "<div>\n<style scoped>\n    .dataframe tbody tr th:only-of-type {\n        vertical-align: middle;\n    }\n\n    .dataframe tbody tr th {\n        vertical-align: top;\n    }\n\n    .dataframe thead th {\n        text-align: right;\n    }\n</style>\n<table border=\"1\" class=\"dataframe\">\n  <thead>\n    <tr style=\"text-align: right;\">\n      <th></th>\n      <th>VTS Site Number</th>\n      <th>VTS Trading Name</th>\n      <th>VTS Address Line 1</th>\n      <th>VTS Address Line 2</th>\n      <th>VTS Address Line 3</th>\n      <th>VTS Address Line 4</th>\n      <th>VTS Post Code</th>\n      <th>VTS Telephone Number</th>\n      <th>VTS Fax Number</th>\n      <th>1</th>\n      <th>2</th>\n      <th>3</th>\n      <th>4</th>\n      <th>4A</th>\n      <th>5</th>\n      <th>5A</th>\n      <th>7</th>\n    </tr>\n  </thead>\n  <tbody>\n    <tr>\n      <th>0</th>\n      <td>0003AW</td>\n      <td>M AND T TRANSMISSIONS LIMITED</td>\n      <td>120 BRADWAY ROAD</td>\n      <td>NaN</td>\n      <td>NaN</td>\n      <td>SHEFFIELD</td>\n      <td>S17 4QW</td>\n      <td>'01142363617</td>\n      <td>'01142621012</td>\n      <td>NaN</td>\n      <td>NaN</td>\n      <td>NaN</td>\n      <td>Y</td>\n      <td>NaN</td>\n      <td>NaN</td>\n      <td>NaN</td>\n      <td>NaN</td>\n    </tr>\n    <tr>\n      <th>1</th>\n      <td>0003BY</td>\n      <td>M &amp; D SERVICES (BRISTOL) LTD</td>\n      <td>UNIT 1 BALACLAVA ROAD IND EST</td>\n      <td>RIDGWAY ROAD</td>\n      <td>FISHPONDS</td>\n      <td>BRISTOL</td>\n      <td>BS16 3LJ</td>\n      <td>'01179651900</td>\n      <td>'01179650651</td>\n      <td>NaN</td>\n      <td>NaN</td>\n      <td>NaN</td>\n      <td>Y</td>\n      <td>NaN</td>\n      <td>Y</td>\n      <td>NaN</td>\n      <td>Y</td>\n    </tr>\n    <tr>\n      <th>2</th>\n      <td>0004B1</td>\n      <td>PANTEG SERVICE STATION</td>\n      <td>STATION RD</td>\n      <td>GRIFFITHSTOWN</td>\n      <td>NaN</td>\n      <td>PONTYPOOL</td>\n      <td>NP4 5JH</td>\n      <td>'01495755140</td>\n      <td>'014795760771</td>\n      <td>NaN</td>\n      <td>NaN</td>\n      <td>NaN</td>\n      <td>Y</td>\n      <td>NaN</td>\n      <td>NaN</td>\n      <td>NaN</td>\n      <td>NaN</td>\n    </tr>\n    <tr>\n      <th>3</th>\n      <td>0005A2</td>\n      <td>HAVELOCK ROAD GARAGE</td>\n      <td>HAVELOCK ROAD</td>\n      <td>BALBY</td>\n      <td>NaN</td>\n      <td>DONCASTER</td>\n      <td>DN4 8AQ</td>\n      <td>'01302363860</td>\n      <td>'</td>\n      <td>NaN</td>\n      <td>NaN</td>\n      <td>NaN</td>\n      <td>Y</td>\n      <td>NaN</td>\n      <td>NaN</td>\n      <td>NaN</td>\n      <td>NaN</td>\n    </tr>\n    <tr>\n      <th>4</th>\n      <td>0005B0</td>\n      <td>STONEACRE</td>\n      <td>ROWSON STREET</td>\n      <td>NEW BRIGHTON</td>\n      <td>NaN</td>\n      <td>WALLASEY</td>\n      <td>CH45 2NA</td>\n      <td>'01516398121</td>\n      <td>'01516390748</td>\n      <td>NaN</td>\n      <td>NaN</td>\n      <td>NaN</td>\n      <td>Y</td>\n      <td>NaN</td>\n      <td>NaN</td>\n      <td>NaN</td>\n      <td>NaN</td>\n    </tr>\n  </tbody>\n</table>\n</div>"
     },
     "metadata": {},
     "execution_count": 2
    }
   ],
   "source": [
    "import pandas as pd\n",
    "\n",
    "csv_path = 'https://s3-eu-west-1.amazonaws.com/dft-python/motsitelist2015.csv';  # Location of the file\n",
    "\n",
    "df1 = pd.read_csv(csv_path)   # Imports the csv\n",
    "df1.head(5)                   # Calling the head method wiuth a value will show the first x records of the data"
   ]
  },
  {
   "source": [
    "As we can see, pandas has imported our csv perfectly!\n",
    "\n",
    "Note how the telephone and fax number columns begin with an apostrophe. This is presumably done to stop software reading it these fields as numbers and stripping the leading 0 of the phone number out!\n",
    "\n",
    "You'll also notice that missing data is shown with a NaN value. This stands for 'Not a Number' and we'll be exploring that in greater detail later on.\n",
    "\n",
    "We do have a lot of control over the read_csv function as evidenced by this more detailed example:"
   ],
   "cell_type": "code",
   "metadata": {},
   "execution_count": null,
   "outputs": []
  },
  {
   "cell_type": "code",
   "execution_count": 9,
   "metadata": {
    "collapsed": false
   },
   "outputs": [
    {
     "output_type": "execute_result",
     "data": {
      "text/plain": [
       "                                 Name                      Address 1  \\\n",
       "Site                                                                   \n",
       "0003AW  M AND T TRANSMISSIONS LIMITED               120 BRADWAY ROAD   \n",
       "0003BY   M & D SERVICES (BRISTOL) LTD  UNIT 1 BALACLAVA ROAD IND EST   \n",
       "0004B1         PANTEG SERVICE STATION                     STATION RD   \n",
       "0005A2           HAVELOCK ROAD GARAGE                  HAVELOCK ROAD   \n",
       "0005B0                      STONEACRE                  ROWSON STREET   \n",
       "\n",
       "            Address 2  Address 3  Address 4  Postcode  \n",
       "Site                                                   \n",
       "0003AW            NaN        NaN  SHEFFIELD   S17 4QW  \n",
       "0003BY   RIDGWAY ROAD  FISHPONDS    BRISTOL  BS16 3LJ  \n",
       "0004B1  GRIFFITHSTOWN        NaN  PONTYPOOL   NP4 5JH  \n",
       "0005A2          BALBY        NaN  DONCASTER   DN4 8AQ  \n",
       "0005B0   NEW BRIGHTON        NaN   WALLASEY  CH45 2NA  "
      ],
      "text/html": "<div>\n<style scoped>\n    .dataframe tbody tr th:only-of-type {\n        vertical-align: middle;\n    }\n\n    .dataframe tbody tr th {\n        vertical-align: top;\n    }\n\n    .dataframe thead th {\n        text-align: right;\n    }\n</style>\n<table border=\"1\" class=\"dataframe\">\n  <thead>\n    <tr style=\"text-align: right;\">\n      <th></th>\n      <th>Name</th>\n      <th>Address 1</th>\n      <th>Address 2</th>\n      <th>Address 3</th>\n      <th>Address 4</th>\n      <th>Postcode</th>\n    </tr>\n    <tr>\n      <th>Site</th>\n      <th></th>\n      <th></th>\n      <th></th>\n      <th></th>\n      <th></th>\n      <th></th>\n    </tr>\n  </thead>\n  <tbody>\n    <tr>\n      <th>0003AW</th>\n      <td>M AND T TRANSMISSIONS LIMITED</td>\n      <td>120 BRADWAY ROAD</td>\n      <td>NaN</td>\n      <td>NaN</td>\n      <td>SHEFFIELD</td>\n      <td>S17 4QW</td>\n    </tr>\n    <tr>\n      <th>0003BY</th>\n      <td>M &amp; D SERVICES (BRISTOL) LTD</td>\n      <td>UNIT 1 BALACLAVA ROAD IND EST</td>\n      <td>RIDGWAY ROAD</td>\n      <td>FISHPONDS</td>\n      <td>BRISTOL</td>\n      <td>BS16 3LJ</td>\n    </tr>\n    <tr>\n      <th>0004B1</th>\n      <td>PANTEG SERVICE STATION</td>\n      <td>STATION RD</td>\n      <td>GRIFFITHSTOWN</td>\n      <td>NaN</td>\n      <td>PONTYPOOL</td>\n      <td>NP4 5JH</td>\n    </tr>\n    <tr>\n      <th>0005A2</th>\n      <td>HAVELOCK ROAD GARAGE</td>\n      <td>HAVELOCK ROAD</td>\n      <td>BALBY</td>\n      <td>NaN</td>\n      <td>DONCASTER</td>\n      <td>DN4 8AQ</td>\n    </tr>\n    <tr>\n      <th>0005B0</th>\n      <td>STONEACRE</td>\n      <td>ROWSON STREET</td>\n      <td>NEW BRIGHTON</td>\n      <td>NaN</td>\n      <td>WALLASEY</td>\n      <td>CH45 2NA</td>\n    </tr>\n  </tbody>\n</table>\n</div>"
     },
     "metadata": {},
     "execution_count": 9
    }
   ],
   "source": [
    "path = 'https://s3-eu-west-1.amazonaws.com/dft-python/motsitelist2015.csv';  # Location of the file\n",
    "cols = ['Site', 'Name', 'Address 1',' Address 2', ' Address 3', 'Address 4','Postcode']#,'Tel', 'Fax','1','2','3','4','4A','5','5A','7']\n",
    "\n",
    "df2 = pd.read_csv(filepath_or_buffer=csv_path,# Keyword argument for the file location\n",
    "                  sep=',',                    # The separator for the data fields. Pandas will try and determine this automatically\n",
    "                  header = 0,                 # The row of the input file to use for the headers\n",
    "                  \n",
    "                  index_col = 'Site',         # Column to use as an index - can also pass a number\n",
    "                  usecols = [0,1,2,3,4,5,6],  # Specify specific columns to import\n",
    "                  names = cols               # Custom column names - passed as a list\n",
    "                 )\n",
    "df2.head(5)"
   ]
  },
  {
   "cell_type": "code",
   "execution_count": 5,
   "metadata": {},
   "outputs": [
    {
     "output_type": "stream",
     "name": "stdout",
     "text": [
      "Help on function read_csv in module pandas.io.parsers:\n\nread_csv(filepath_or_buffer: Union[str, pathlib.Path, IO[~AnyStr]], sep=',', delimiter=None, header='infer', names=None, index_col=None, usecols=None, squeeze=False, prefix=None, mangle_dupe_cols=True, dtype=None, engine=None, converters=None, true_values=None, false_values=None, skipinitialspace=False, skiprows=None, skipfooter=0, nrows=None, na_values=None, keep_default_na=True, na_filter=True, verbose=False, skip_blank_lines=True, parse_dates=False, infer_datetime_format=False, keep_date_col=False, date_parser=None, dayfirst=False, cache_dates=True, iterator=False, chunksize=None, compression='infer', thousands=None, decimal: str = '.', lineterminator=None, quotechar='\"', quoting=0, doublequote=True, escapechar=None, comment=None, encoding=None, dialect=None, error_bad_lines=True, warn_bad_lines=True, delim_whitespace=False, low_memory=True, memory_map=False, float_precision=None)\n    Read a comma-separated values (csv) file into DataFrame.\n    \n    Also supports optionally iterating or breaking of the file\n    into chunks.\n    \n    Additional help can be found in the online docs for\n    `IO Tools <https://pandas.pydata.org/pandas-docs/stable/user_guide/io.html>`_.\n    \n    Parameters\n    ----------\n    filepath_or_buffer : str, path object or file-like object\n        Any valid string path is acceptable. The string could be a URL. Valid\n        URL schemes include http, ftp, s3, gs, and file. For file URLs, a host is\n        expected. A local file could be: file://localhost/path/to/table.csv.\n    \n        If you want to pass in a path object, pandas accepts any ``os.PathLike``.\n    \n        By file-like object, we refer to objects with a ``read()`` method, such as\n        a file handler (e.g. via builtin ``open`` function) or ``StringIO``.\n    sep : str, default ','\n        Delimiter to use. If sep is None, the C engine cannot automatically detect\n        the separator, but the Python parsing engine can, meaning the latter will\n        be used and automatically detect the separator by Python's builtin sniffer\n        tool, ``csv.Sniffer``. In addition, separators longer than 1 character and\n        different from ``'\\s+'`` will be interpreted as regular expressions and\n        will also force the use of the Python parsing engine. Note that regex\n        delimiters are prone to ignoring quoted data. Regex example: ``'\\r\\t'``.\n    delimiter : str, default ``None``\n        Alias for sep.\n    header : int, list of int, default 'infer'\n        Row number(s) to use as the column names, and the start of the\n        data.  Default behavior is to infer the column names: if no names\n        are passed the behavior is identical to ``header=0`` and column\n        names are inferred from the first line of the file, if column\n        names are passed explicitly then the behavior is identical to\n        ``header=None``. Explicitly pass ``header=0`` to be able to\n        replace existing names. The header can be a list of integers that\n        specify row locations for a multi-index on the columns\n        e.g. [0,1,3]. Intervening rows that are not specified will be\n        skipped (e.g. 2 in this example is skipped). Note that this\n        parameter ignores commented lines and empty lines if\n        ``skip_blank_lines=True``, so ``header=0`` denotes the first line of\n        data rather than the first line of the file.\n    names : array-like, optional\n        List of column names to use. If the file contains a header row,\n        then you should explicitly pass ``header=0`` to override the column names.\n        Duplicates in this list are not allowed.\n    index_col : int, str, sequence of int / str, or False, default ``None``\n      Column(s) to use as the row labels of the ``DataFrame``, either given as\n      string name or column index. If a sequence of int / str is given, a\n      MultiIndex is used.\n    \n      Note: ``index_col=False`` can be used to force pandas to *not* use the first\n      column as the index, e.g. when you have a malformed file with delimiters at\n      the end of each line.\n    usecols : list-like or callable, optional\n        Return a subset of the columns. If list-like, all elements must either\n        be positional (i.e. integer indices into the document columns) or strings\n        that correspond to column names provided either by the user in `names` or\n        inferred from the document header row(s). For example, a valid list-like\n        `usecols` parameter would be ``[0, 1, 2]`` or ``['foo', 'bar', 'baz']``.\n        Element order is ignored, so ``usecols=[0, 1]`` is the same as ``[1, 0]``.\n        To instantiate a DataFrame from ``data`` with element order preserved use\n        ``pd.read_csv(data, usecols=['foo', 'bar'])[['foo', 'bar']]`` for columns\n        in ``['foo', 'bar']`` order or\n        ``pd.read_csv(data, usecols=['foo', 'bar'])[['bar', 'foo']]``\n        for ``['bar', 'foo']`` order.\n    \n        If callable, the callable function will be evaluated against the column\n        names, returning names where the callable function evaluates to True. An\n        example of a valid callable argument would be ``lambda x: x.upper() in\n        ['AAA', 'BBB', 'DDD']``. Using this parameter results in much faster\n        parsing time and lower memory usage.\n    squeeze : bool, default False\n        If the parsed data only contains one column then return a Series.\n    prefix : str, optional\n        Prefix to add to column numbers when no header, e.g. 'X' for X0, X1, ...\n    mangle_dupe_cols : bool, default True\n        Duplicate columns will be specified as 'X', 'X.1', ...'X.N', rather than\n        'X'...'X'. Passing in False will cause data to be overwritten if there\n        are duplicate names in the columns.\n    dtype : Type name or dict of column -> type, optional\n        Data type for data or columns. E.g. {'a': np.float64, 'b': np.int32,\n        'c': 'Int64'}\n        Use `str` or `object` together with suitable `na_values` settings\n        to preserve and not interpret dtype.\n        If converters are specified, they will be applied INSTEAD\n        of dtype conversion.\n    engine : {'c', 'python'}, optional\n        Parser engine to use. The C engine is faster while the python engine is\n        currently more feature-complete.\n    converters : dict, optional\n        Dict of functions for converting values in certain columns. Keys can either\n        be integers or column labels.\n    true_values : list, optional\n        Values to consider as True.\n    false_values : list, optional\n        Values to consider as False.\n    skipinitialspace : bool, default False\n        Skip spaces after delimiter.\n    skiprows : list-like, int or callable, optional\n        Line numbers to skip (0-indexed) or number of lines to skip (int)\n        at the start of the file.\n    \n        If callable, the callable function will be evaluated against the row\n        indices, returning True if the row should be skipped and False otherwise.\n        An example of a valid callable argument would be ``lambda x: x in [0, 2]``.\n    skipfooter : int, default 0\n        Number of lines at bottom of file to skip (Unsupported with engine='c').\n    nrows : int, optional\n        Number of rows of file to read. Useful for reading pieces of large files.\n    na_values : scalar, str, list-like, or dict, optional\n        Additional strings to recognize as NA/NaN. If dict passed, specific\n        per-column NA values.  By default the following values are interpreted as\n        NaN: '', '#N/A', '#N/A N/A', '#NA', '-1.#IND', '-1.#QNAN', '-NaN', '-nan',\n        '1.#IND', '1.#QNAN', '<NA>', 'N/A', 'NA', 'NULL', 'NaN', 'n/a',\n        'nan', 'null'.\n    keep_default_na : bool, default True\n        Whether or not to include the default NaN values when parsing the data.\n        Depending on whether `na_values` is passed in, the behavior is as follows:\n    \n        * If `keep_default_na` is True, and `na_values` are specified, `na_values`\n          is appended to the default NaN values used for parsing.\n        * If `keep_default_na` is True, and `na_values` are not specified, only\n          the default NaN values are used for parsing.\n        * If `keep_default_na` is False, and `na_values` are specified, only\n          the NaN values specified `na_values` are used for parsing.\n        * If `keep_default_na` is False, and `na_values` are not specified, no\n          strings will be parsed as NaN.\n    \n        Note that if `na_filter` is passed in as False, the `keep_default_na` and\n        `na_values` parameters will be ignored.\n    na_filter : bool, default True\n        Detect missing value markers (empty strings and the value of na_values). In\n        data without any NAs, passing na_filter=False can improve the performance\n        of reading a large file.\n    verbose : bool, default False\n        Indicate number of NA values placed in non-numeric columns.\n    skip_blank_lines : bool, default True\n        If True, skip over blank lines rather than interpreting as NaN values.\n    parse_dates : bool or list of int or names or list of lists or dict, default False\n        The behavior is as follows:\n    \n        * boolean. If True -> try parsing the index.\n        * list of int or names. e.g. If [1, 2, 3] -> try parsing columns 1, 2, 3\n          each as a separate date column.\n        * list of lists. e.g.  If [[1, 3]] -> combine columns 1 and 3 and parse as\n          a single date column.\n        * dict, e.g. {'foo' : [1, 3]} -> parse columns 1, 3 as date and call\n          result 'foo'\n    \n        If a column or index cannot be represented as an array of datetimes,\n        say because of an unparseable value or a mixture of timezones, the column\n        or index will be returned unaltered as an object data type. For\n        non-standard datetime parsing, use ``pd.to_datetime`` after\n        ``pd.read_csv``. To parse an index or column with a mixture of timezones,\n        specify ``date_parser`` to be a partially-applied\n        :func:`pandas.to_datetime` with ``utc=True``. See\n        :ref:`io.csv.mixed_timezones` for more.\n    \n        Note: A fast-path exists for iso8601-formatted dates.\n    infer_datetime_format : bool, default False\n        If True and `parse_dates` is enabled, pandas will attempt to infer the\n        format of the datetime strings in the columns, and if it can be inferred,\n        switch to a faster method of parsing them. In some cases this can increase\n        the parsing speed by 5-10x.\n    keep_date_col : bool, default False\n        If True and `parse_dates` specifies combining multiple columns then\n        keep the original columns.\n    date_parser : function, optional\n        Function to use for converting a sequence of string columns to an array of\n        datetime instances. The default uses ``dateutil.parser.parser`` to do the\n        conversion. Pandas will try to call `date_parser` in three different ways,\n        advancing to the next if an exception occurs: 1) Pass one or more arrays\n        (as defined by `parse_dates`) as arguments; 2) concatenate (row-wise) the\n        string values from the columns defined by `parse_dates` into a single array\n        and pass that; and 3) call `date_parser` once for each row using one or\n        more strings (corresponding to the columns defined by `parse_dates`) as\n        arguments.\n    dayfirst : bool, default False\n        DD/MM format dates, international and European format.\n    cache_dates : bool, default True\n        If True, use a cache of unique, converted dates to apply the datetime\n        conversion. May produce significant speed-up when parsing duplicate\n        date strings, especially ones with timezone offsets.\n    \n        .. versionadded:: 0.25.0\n    iterator : bool, default False\n        Return TextFileReader object for iteration or getting chunks with\n        ``get_chunk()``.\n    chunksize : int, optional\n        Return TextFileReader object for iteration.\n        See the `IO Tools docs\n        <https://pandas.pydata.org/pandas-docs/stable/io.html#io-chunking>`_\n        for more information on ``iterator`` and ``chunksize``.\n    compression : {'infer', 'gzip', 'bz2', 'zip', 'xz', None}, default 'infer'\n        For on-the-fly decompression of on-disk data. If 'infer' and\n        `filepath_or_buffer` is path-like, then detect compression from the\n        following extensions: '.gz', '.bz2', '.zip', or '.xz' (otherwise no\n        decompression). If using 'zip', the ZIP file must contain only one data\n        file to be read in. Set to None for no decompression.\n    thousands : str, optional\n        Thousands separator.\n    decimal : str, default '.'\n        Character to recognize as decimal point (e.g. use ',' for European data).\n    lineterminator : str (length 1), optional\n        Character to break file into lines. Only valid with C parser.\n    quotechar : str (length 1), optional\n        The character used to denote the start and end of a quoted item. Quoted\n        items can include the delimiter and it will be ignored.\n    quoting : int or csv.QUOTE_* instance, default 0\n        Control field quoting behavior per ``csv.QUOTE_*`` constants. Use one of\n        QUOTE_MINIMAL (0), QUOTE_ALL (1), QUOTE_NONNUMERIC (2) or QUOTE_NONE (3).\n    doublequote : bool, default ``True``\n       When quotechar is specified and quoting is not ``QUOTE_NONE``, indicate\n       whether or not to interpret two consecutive quotechar elements INSIDE a\n       field as a single ``quotechar`` element.\n    escapechar : str (length 1), optional\n        One-character string used to escape other characters.\n    comment : str, optional\n        Indicates remainder of line should not be parsed. If found at the beginning\n        of a line, the line will be ignored altogether. This parameter must be a\n        single character. Like empty lines (as long as ``skip_blank_lines=True``),\n        fully commented lines are ignored by the parameter `header` but not by\n        `skiprows`. For example, if ``comment='#'``, parsing\n        ``#empty\\na,b,c\\n1,2,3`` with ``header=0`` will result in 'a,b,c' being\n        treated as the header.\n    encoding : str, optional\n        Encoding to use for UTF when reading/writing (ex. 'utf-8'). `List of Python\n        standard encodings\n        <https://docs.python.org/3/library/codecs.html#standard-encodings>`_ .\n    dialect : str or csv.Dialect, optional\n        If provided, this parameter will override values (default or not) for the\n        following parameters: `delimiter`, `doublequote`, `escapechar`,\n        `skipinitialspace`, `quotechar`, and `quoting`. If it is necessary to\n        override values, a ParserWarning will be issued. See csv.Dialect\n        documentation for more details.\n    error_bad_lines : bool, default True\n        Lines with too many fields (e.g. a csv line with too many commas) will by\n        default cause an exception to be raised, and no DataFrame will be returned.\n        If False, then these \"bad lines\" will dropped from the DataFrame that is\n        returned.\n    warn_bad_lines : bool, default True\n        If error_bad_lines is False, and warn_bad_lines is True, a warning for each\n        \"bad line\" will be output.\n    delim_whitespace : bool, default False\n        Specifies whether or not whitespace (e.g. ``' '`` or ``'    '``) will be\n        used as the sep. Equivalent to setting ``sep='\\s+'``. If this option\n        is set to True, nothing should be passed in for the ``delimiter``\n        parameter.\n    low_memory : bool, default True\n        Internally process the file in chunks, resulting in lower memory use\n        while parsing, but possibly mixed type inference.  To ensure no mixed\n        types either set False, or specify the type with the `dtype` parameter.\n        Note that the entire file is read into a single DataFrame regardless,\n        use the `chunksize` or `iterator` parameter to return the data in chunks.\n        (Only valid with C parser).\n    memory_map : bool, default False\n        If a filepath is provided for `filepath_or_buffer`, map the file object\n        directly onto memory and access the data directly from there. Using this\n        option can improve performance because there is no longer any I/O overhead.\n    float_precision : str, optional\n        Specifies which converter the C engine should use for floating-point\n        values. The options are `None` for the ordinary converter,\n        `high` for the high-precision converter, and `round_trip` for the\n        round-trip converter.\n    \n    Returns\n    -------\n    DataFrame or TextParser\n        A comma-separated values (csv) file is returned as two-dimensional\n        data structure with labeled axes.\n    \n    See Also\n    --------\n    DataFrame.to_csv : Write DataFrame to a comma-separated values (csv) file.\n    read_csv : Read a comma-separated values (csv) file into DataFrame.\n    read_fwf : Read a table of fixed-width formatted lines into DataFrame.\n    \n    Examples\n    --------\n    >>> pd.read_csv('data.csv')  # doctest: +SKIP\n\n"
     ]
    }
   ],
   "source": [
    "help(pd.read_csv)"
   ]
  },
  {
   "cell_type": "markdown",
   "metadata": {},
   "source": [
    "You can read more about the read_csv function at the Pandas API reference <a href = \"http://pandas.pydata.org/pandas-docs/stable/generated/pandas.read_csv.html\">here</a>."
   ]
  },
  {
   "cell_type": "markdown",
   "metadata": {},
   "source": [
    "## JSON Data"
   ]
  },
  {
   "cell_type": "markdown",
   "metadata": {},
   "source": [
    "JSON stands for JavaScript Object Notation. It is a widely used data format on the internet due to the wide use of Javascript in web browsers. If you've not seen JSON data before, it can appear a little daunting as it's not really designed to be easily read by humans and also due to its nested nature. That said, it is a very efficient way to store unstructured data since not all the data items have to have the same 'shape' (e.g. rows / columns) and values can be nested within other data items and accesed by indexing.\n",
    "\n",
    "We'll now look at the above extract from the MOT dataset above, except in JSON format:"
   ]
  },
  {
   "cell_type": "raw",
   "metadata": {},
   "source": [
    "'{\"Name\":\n",
    "    {\"0003AW\":\"M AND T TRANSMISSIONS LIMITED\",\n",
    "    \"0003BY\":\"M & D SERVICES (BRISTOL) LTD\",\n",
    "    \"0004B1\":\"PANTEG SERVICE STATION\",\n",
    "    \"0005A2\":\"HAVELOCK ROAD GARAGE\",\n",
    "    \"0005B0\":\"STONEACRE\"},\n",
    "\"Address 1\":\n",
    "    {\"0003AW\":\"120 BRADWAY ROAD\",\n",
    "    \"0003BY\":\"UNIT 1 BALACLAVA ROAD IND EST\",\n",
    "    \"0004B1\":\"STATION RD\",\"0005A2\":\"HAVELOCK ROAD\",\n",
    "    \"0005B0\":\"ROWSON STREET\"},\" \n",
    "Address 2\":\n",
    "    {\"0003AW\":null,\n",
    "    \"0003BY\":\"RIDGWAY ROAD\",\n",
    "    \"0004B1\":\"GRIFFITHSTOWN\",\n",
    "    \"0005A2\":\"BALBY\",\n",
    "    \"0005B0\":\"NEW BRIGHTON\"},\" \n",
    "Address 3\":\n",
    "    {\"0003AW\":null,\n",
    "    \"0003BY\":\"FISHPONDS\",\n",
    "    \"0004B1\":null,\n",
    "    \"0005A2\":null,\n",
    "    \"0005B0\":null},\n",
    "\"Address 4\":\n",
    "    {\"0003AW\":\"SHEFFIELD\",\n",
    "    \"0003BY\":\"BRISTOL\",\n",
    "    \"0004B1\":\"PONTYPOOL\",\n",
    "    \"0005A2\":\"DONCASTER\",\n",
    "    \"0005B0\":\"WALLASEY\"},\n",
    "\"Postcode\":\n",
    "    {\"0003AW\":\"S17 4QW\",\n",
    "    \"0003BY\":\"BS16 3LJ\",\n",
    "    \"0004B1\":\"NP4 5JH\",\n",
    "    \"0005A2\":\"DN4 8AQ\",\n",
    "    \"0005B0\":\"CH45 2NA\"}}'"
   ]
  },
  {
   "cell_type": "markdown",
   "metadata": {},
   "source": [
    "As you can see the format isn't particularly easy on the eye and due to it's different structure and nesting, it's quite difficult to make sense of. Fortunately pandas copes very well with JSON and can make light work of it.\n",
    "\n",
    "We're now going to import an identical MOT dataset to our first example, except this time it's saved in JSON format."
   ]
  },
  {
   "cell_type": "code",
   "execution_count": 10,
   "metadata": {
    "collapsed": false
   },
   "outputs": [
    {
     "output_type": "execute_result",
     "data": {
      "text/plain": [
       "  VTS Site Number               VTS Trading Name  \\\n",
       "0          0003AW  M AND T TRANSMISSIONS LIMITED   \n",
       "1          0003BY   M & D SERVICES (BRISTOL) LTD   \n",
       "2          0004B1         PANTEG SERVICE STATION   \n",
       "3          0005A2           HAVELOCK ROAD GARAGE   \n",
       "4          0005B0                      STONEACRE   \n",
       "\n",
       "              VTS Address Line 1 VTS Address Line 2 VTS Address Line 3  \\\n",
       "0               120 BRADWAY ROAD               None               None   \n",
       "1  UNIT 1 BALACLAVA ROAD IND EST       RIDGWAY ROAD          FISHPONDS   \n",
       "2                     STATION RD      GRIFFITHSTOWN               None   \n",
       "3                  HAVELOCK ROAD              BALBY               None   \n",
       "4                  ROWSON STREET       NEW BRIGHTON               None   \n",
       "\n",
       "  VTS Address Line 4 VTS Post Code VTS Telephone Number VTS Fax Number     1  \\\n",
       "0          SHEFFIELD       S17 4QW         '01142363617   '01142621012  None   \n",
       "1            BRISTOL      BS16 3LJ         '01179651900   '01179650651  None   \n",
       "2          PONTYPOOL       NP4 5JH         '01495755140  '014795760771  None   \n",
       "3          DONCASTER       DN4 8AQ         '01302363860              '  None   \n",
       "4           WALLASEY      CH45 2NA         '01516398121   '01516390748  None   \n",
       "\n",
       "      2     3  4    4A     5    5A     7  \n",
       "0  None  None  Y  None  None  None  None  \n",
       "1  None  None  Y  None     Y  None     Y  \n",
       "2  None  None  Y  None  None  None  None  \n",
       "3  None  None  Y  None  None  None  None  \n",
       "4  None  None  Y  None  None  None  None  "
      ],
      "text/html": "<div>\n<style scoped>\n    .dataframe tbody tr th:only-of-type {\n        vertical-align: middle;\n    }\n\n    .dataframe tbody tr th {\n        vertical-align: top;\n    }\n\n    .dataframe thead th {\n        text-align: right;\n    }\n</style>\n<table border=\"1\" class=\"dataframe\">\n  <thead>\n    <tr style=\"text-align: right;\">\n      <th></th>\n      <th>VTS Site Number</th>\n      <th>VTS Trading Name</th>\n      <th>VTS Address Line 1</th>\n      <th>VTS Address Line 2</th>\n      <th>VTS Address Line 3</th>\n      <th>VTS Address Line 4</th>\n      <th>VTS Post Code</th>\n      <th>VTS Telephone Number</th>\n      <th>VTS Fax Number</th>\n      <th>1</th>\n      <th>2</th>\n      <th>3</th>\n      <th>4</th>\n      <th>4A</th>\n      <th>5</th>\n      <th>5A</th>\n      <th>7</th>\n    </tr>\n  </thead>\n  <tbody>\n    <tr>\n      <th>0</th>\n      <td>0003AW</td>\n      <td>M AND T TRANSMISSIONS LIMITED</td>\n      <td>120 BRADWAY ROAD</td>\n      <td>None</td>\n      <td>None</td>\n      <td>SHEFFIELD</td>\n      <td>S17 4QW</td>\n      <td>'01142363617</td>\n      <td>'01142621012</td>\n      <td>None</td>\n      <td>None</td>\n      <td>None</td>\n      <td>Y</td>\n      <td>None</td>\n      <td>None</td>\n      <td>None</td>\n      <td>None</td>\n    </tr>\n    <tr>\n      <th>1</th>\n      <td>0003BY</td>\n      <td>M &amp; D SERVICES (BRISTOL) LTD</td>\n      <td>UNIT 1 BALACLAVA ROAD IND EST</td>\n      <td>RIDGWAY ROAD</td>\n      <td>FISHPONDS</td>\n      <td>BRISTOL</td>\n      <td>BS16 3LJ</td>\n      <td>'01179651900</td>\n      <td>'01179650651</td>\n      <td>None</td>\n      <td>None</td>\n      <td>None</td>\n      <td>Y</td>\n      <td>None</td>\n      <td>Y</td>\n      <td>None</td>\n      <td>Y</td>\n    </tr>\n    <tr>\n      <th>2</th>\n      <td>0004B1</td>\n      <td>PANTEG SERVICE STATION</td>\n      <td>STATION RD</td>\n      <td>GRIFFITHSTOWN</td>\n      <td>None</td>\n      <td>PONTYPOOL</td>\n      <td>NP4 5JH</td>\n      <td>'01495755140</td>\n      <td>'014795760771</td>\n      <td>None</td>\n      <td>None</td>\n      <td>None</td>\n      <td>Y</td>\n      <td>None</td>\n      <td>None</td>\n      <td>None</td>\n      <td>None</td>\n    </tr>\n    <tr>\n      <th>3</th>\n      <td>0005A2</td>\n      <td>HAVELOCK ROAD GARAGE</td>\n      <td>HAVELOCK ROAD</td>\n      <td>BALBY</td>\n      <td>None</td>\n      <td>DONCASTER</td>\n      <td>DN4 8AQ</td>\n      <td>'01302363860</td>\n      <td>'</td>\n      <td>None</td>\n      <td>None</td>\n      <td>None</td>\n      <td>Y</td>\n      <td>None</td>\n      <td>None</td>\n      <td>None</td>\n      <td>None</td>\n    </tr>\n    <tr>\n      <th>4</th>\n      <td>0005B0</td>\n      <td>STONEACRE</td>\n      <td>ROWSON STREET</td>\n      <td>NEW BRIGHTON</td>\n      <td>None</td>\n      <td>WALLASEY</td>\n      <td>CH45 2NA</td>\n      <td>'01516398121</td>\n      <td>'01516390748</td>\n      <td>None</td>\n      <td>None</td>\n      <td>None</td>\n      <td>Y</td>\n      <td>None</td>\n      <td>None</td>\n      <td>None</td>\n      <td>None</td>\n    </tr>\n  </tbody>\n</table>\n</div>"
     },
     "metadata": {},
     "execution_count": 10
    }
   ],
   "source": [
    "json_path = 'https://s3-eu-west-1.amazonaws.com/dft-python/motsitelist2015.json';  # Location of the file - note the json suffix!\n",
    "df3 = pd.read_json(json_path)\n",
    "df3.head(5)"
   ]
  },
  {
   "cell_type": "markdown",
   "metadata": {},
   "source": [
    "As we can see, Pandas as read the JSON file in a different order and it also appears to have an issue with the index. This is all stuff we can fix very easily, and indeed we're going to find out how in the upcoming chapters, but as a basic validation check we should see whether the JSON dataframe has the same number of records as the CSV dataframe. We can do this with the len() function we met in the basics section:"
   ]
  },
  {
   "cell_type": "code",
   "execution_count": 11,
   "metadata": {
    "collapsed": false
   },
   "outputs": [
    {
     "output_type": "stream",
     "name": "stdout",
     "text": [
      "22737 22737\n"
     ]
    }
   ],
   "source": [
    "print(len(df1),len(df3))"
   ]
  },
  {
   "cell_type": "markdown",
   "metadata": {},
   "source": [
    "As we can see, both datasets have the same number of records which is encouraging! For now, we'll simply export our dataset as a csv so we can explore it in Excel or a similar program.\n",
    "\n",
    "Note that you can read more about the read_json function <a href = \"http://pandas.pydata.org/pandas-docs/stable/io.html#io-json-reader\">here</a>"
   ]
  },
  {
   "cell_type": "code",
   "execution_count": 16,
   "metadata": {
    "collapsed": false
   },
   "outputs": [],
   "source": [
    "out_path = \"C:\\\\Users\\\\Rose Almond\\\\Documents\\\\GitHub\\\\Python-for-Analysts\\\\2_data_analysis\\\\output\\\\MOT File.csv\"  # Location of the outfile\n",
    "df3.to_csv(out_path)                                       # Exporting the file as a CSV"
   ]
  },
  {
   "cell_type": "markdown",
   "metadata": {},
   "source": [
    "Note that we have to use double backslashes when specifying a string for the file location as Python uses single backslashes as an 'escape sequence'. There is more information about escape sequences in the further reading section.\n",
    "\n",
    "You can also read more about the to_csv function <a href = \"http://pandas.pydata.org/pandas-docs/version/0.17.1/generated/pandas.DataFrame.to_csv.html\">here</a>."
   ]
  },
  {
   "cell_type": "markdown",
   "metadata": {
    "collapsed": true
   },
   "source": [
    "## Other forms of data"
   ]
  },
  {
   "cell_type": "markdown",
   "metadata": {
    "collapsed": true
   },
   "source": [
    "Note that you're not just limited to JSON and CSV data when reading data into pandas, although these are two of the more common types of data format out there. Pandas has many other similar functions for reading a wider variety of data in, including:\n",
    "\n",
    "* MS Excel\n",
    "* HTML\n",
    "* SQL\n",
    "* STATA\n",
    "* SAS\n",
    "\n",
    "You can find a full list of these functions <a href = \"http://pandas.pydata.org/pandas-docs/stable/io.html\">here</a> along with links to supporting documentation."
   ]
  },
  {
   "cell_type": "markdown",
   "metadata": {},
   "source": [
    "## Further Reading"
   ]
  },
  {
   "cell_type": "markdown",
   "metadata": {},
   "source": [
    "<a href = \"http://pandas.pydata.org/pandas-docs/stable/io.html\">Pandas IO tools</a> (Read / Export functions)<br/>\n",
    "<a href = \"http://pandas.pydata.org/pandas-docs/stable/generated/pandas.read_csv.html\">read_csv Function</a><br/>\n",
    "<a href = \"http://pandas.pydata.org/pandas-docs/version/0.17.1/generated/pandas.DataFrame.to_csv.html\">to_csv Fucntion</a><br/>\n",
    "<a href = \"http://pandas.pydata.org/pandas-docs/stable/io.html#io-json-reader\">read_json function</a><br/>\n",
    "<a href = \"http://beginnersbook.com/2015/04/json-tutorial/\">JSON Tutorial</a><br/>"
   ]
  }
 ],
 "metadata": {
  "kernelspec": {
   "display_name": "Python 3",
   "language": "python",
   "name": "python3"
  },
  "language_info": {
   "codemirror_mode": {
    "name": "ipython",
    "version": 3
   },
   "file_extension": ".py",
   "mimetype": "text/x-python",
   "name": "python",
   "nbconvert_exporter": "python",
   "pygments_lexer": "ipython3",
   "version": "3.8.5-final"
  }
 },
 "nbformat": 4,
 "nbformat_minor": 0
}