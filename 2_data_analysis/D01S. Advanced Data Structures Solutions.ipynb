{
 "cells": [
  {
   "cell_type": "markdown",
   "metadata": {},
   "source": [
    "# D01S: Advanced Data Structures Solutions"
   ]
  },
  {
   "cell_type": "markdown",
   "metadata": {},
   "source": [
    "#### Exercise 1: Create the following Numpy arrays with random numbers for the following dimensions:\n",
    "\n",
    "* 5 x 5\n",
    "* 1 x 20\n",
    "* 90 x 90\n",
    "\n",
    "Also round the arrays to 3 decimal places."
   ]
  },
  {
   "cell_type": "code",
   "execution_count": 3,
   "metadata": {
    "collapsed": false
   },
   "outputs": [
    {
     "output_type": "execute_result",
     "data": {
      "text/plain": [
       "array([[0.941, 0.294, 0.519, ..., 0.462, 0.396, 0.616],\n",
       "       [0.663, 0.534, 0.02 , ..., 0.04 , 0.048, 0.68 ],\n",
       "       [0.806, 0.224, 0.646, ..., 0.361, 0.566, 0.059],\n",
       "       ...,\n",
       "       [0.358, 0.582, 0.598, ..., 0.533, 0.327, 0.708],\n",
       "       [0.506, 0.701, 0.232, ..., 0.866, 0.269, 0.178],\n",
       "       [0.424, 0.931, 0.926, ..., 0.993, 0.061, 0.868]])"
      ]
     },
     "metadata": {},
     "execution_count": 3
    }
   ],
   "source": [
    "import numpy as np\n",
    "\n",
    "arr1 = np.random.random((5,5))\n",
    "arr1 = np.round(arr1,3) \n",
    "arr2 = np.random.random((1,20))\n",
    "arr2 = np.round(arr2,3) \n",
    "arr3 = np.random.random((90,90))\n",
    "arr3 = np.round(arr3,3)\n",
    "arr3"
   ]
  },
  {
   "cell_type": "markdown",
   "metadata": {},
   "source": [
    "#### Exercise 2: Create a 1 dimensional array containing 10 records and convert this to a pandas series with the custom index:"
   ]
  },
  {
   "cell_type": "code",
   "execution_count": 4,
   "metadata": {
    "collapsed": true
   },
   "outputs": [],
   "source": [
    "custom_index = ['A','B','C','D','E','F','G','H','I','J']"
   ]
  },
  {
   "cell_type": "code",
   "execution_count": 5,
   "metadata": {
    "collapsed": false
   },
   "outputs": [
    {
     "output_type": "stream",
     "name": "stdout",
     "text": [
      "[0.71767759 0.12107108 0.18362104 0.50734884 0.96531036 0.35964199\n 0.2097662  0.09929498 0.61324527 0.80209413]\nA    0.717678\nB    0.121071\nC    0.183621\nD    0.507349\nE    0.965310\nF    0.359642\nG    0.209766\nH    0.099295\nI    0.613245\nJ    0.802094\ndtype: float64\n"
     ]
    }
   ],
   "source": [
    "import pandas as pd\n",
    "\n",
    "arr4 = np.random.random(10)\n",
    "print(arr4)\n",
    "ser1 = pd.Series(data=arr4,index=custom_index)\n",
    "print(ser1)\n"
   ]
  },
  {
   "cell_type": "markdown",
   "metadata": {},
   "source": [
    "#### Exercise 3: Create a Pandas dataframe from the following data, and name the columns col1 - col5. Then...\n",
    "\n",
    "1) Convert col1 to an array.\n",
    "2) Convert col2 to a list.\n",
    "3) Convert col3 to a dictionary."
   ]
  },
  {
   "cell_type": "code",
   "execution_count": 10,
   "metadata": {
    "collapsed": false
   },
   "outputs": [
    {
     "output_type": "execute_result",
     "data": {
      "text/plain": [
       "numpy.ndarray"
      ]
     },
     "metadata": {},
     "execution_count": 10
    }
   ],
   "source": [
    "index = np.arange(0,5)\n",
    "data1 = np.random.random(5)\n",
    "data2 = np.random.random(5)\n",
    "data3 = np.random.random(5)\n",
    "data4 = np.random.random(5)\n",
    "data5 = np.random.random(5)\n",
    "\n",
    "type(data1)"
   ]
  },
  {
   "cell_type": "code",
   "execution_count": 8,
   "metadata": {
    "collapsed": false
   },
   "outputs": [
    {
     "output_type": "stream",
     "name": "stdout",
     "text": [
      "       col1      col2      col3      col4      col5\n0  0.427700  0.273127  0.446748  0.836403  0.373143\n1  0.171586  0.650323  0.034730  0.809863  0.485722\n2  0.776525  0.734477  0.077414  0.190733  0.160068\n3  0.767134  0.704562  0.035251  0.718777  0.188075\n4  0.776378  0.569216  0.593663  0.604173  0.461364\n[0.42770016 0.17158575 0.77652538 0.76713444 0.7763779 ] [0.27312736237725765, 0.6503229997750068, 0.7344772499632654, 0.7045622041052269, 0.5692162142507783] {0: 0.4467478205764148, 1: 0.03472989666698001, 2: 0.07741415607817737, 3: 0.0352510048357213, 4: 0.5936633892469564}\n"
     ]
    }
   ],
   "source": [
    "cols = ['col1','col2','col3','col4','col5']\n",
    "df1 = pd.DataFrame(data=[data1,data2,data3,data4,data5],  \n",
    "                  index=index,     \n",
    "                  columns=cols)          \n",
    "print(df1)\n",
    "\n",
    "\n",
    "array = df1['col1'].values\n",
    "list = df1['col2'].tolist()\n",
    "dict = df1['col3'].to_dict()\n",
    "\n",
    "print(array,list,dict)\n",
    "\n",
    "array2 =  np.array(df1['col5'])\n"
   ]
  },
  {
   "cell_type": "code",
   "execution_count": null,
   "metadata": {
    "collapsed": true
   },
   "outputs": [],
   "source": []
  }
 ],
 "metadata": {
  "kernelspec": {
   "display_name": "Python 3",
   "language": "python",
   "name": "python3"
  },
  "language_info": {
   "codemirror_mode": {
    "name": "ipython",
    "version": 3
   },
   "file_extension": ".py",
   "mimetype": "text/x-python",
   "name": "python",
   "nbconvert_exporter": "python",
   "pygments_lexer": "ipython3",
   "version": "3.8.5-final"
  }
 },
 "nbformat": 4,
 "nbformat_minor": 0
}