{
 "cells": [
  {
   "cell_type": "markdown",
   "metadata": {},
   "source": [
    "# B06: Basic Data Structures Part 2"
   ]
  },
  {
   "cell_type": "markdown",
   "metadata": {},
   "source": [
    "We spent quite a bit of time looking at lists and methods. You'll be pleased to hear that a lot of the principles that you learned for lists are applicable to other data structures in Python, including the more advanced analytical data structures we'll meet later on."
   ]
  },
  {
   "cell_type": "markdown",
   "metadata": {},
   "source": [
    "## Dictionaries"
   ]
  },
  {
   "cell_type": "markdown",
   "metadata": {},
   "source": [
    "Next we're going to look at Dictionaries (also called Dicts). Enclosed within curly brackets {} They are a type of 'mapping' and are made up of a key and a value as follows:"
   ]
  },
  {
   "cell_type": "code",
   "execution_count": null,
   "metadata": {},
   "outputs": [],
   "source": [
    "# Creating a dictionary\n",
    "example = {\n",
    "    'key1':'value1',\n",
    "    'key2':'value2',\n",
    "    'key3':'value3'\n",
    "}\n",
    "example"
   ]
  },
  {
   "cell_type": "markdown",
   "metadata": {},
   "source": [
    "If you've got some experience in web development, in particular with [JSON](http://www.w3schools.com/json) then the format of dictionaries should look familiar to you. Let's see what else we can do with dictionaries..."
   ]
  },
  {
   "cell_type": "code",
   "execution_count": 2,
   "metadata": {},
   "outputs": [
    {
     "output_type": "execute_result",
     "data": {
      "text/plain": [
       "{'Alex': 27, 'Tom': 36, 'Samantha': 44, 'Gill': 51, 'Barry': 53}"
      ]
     },
     "metadata": {},
     "execution_count": 2
    }
   ],
   "source": [
    "# Basic dictionary\n",
    "dict1 = {\n",
    "    'Alex':27,\n",
    "    'Tom':36,\n",
    "    'Samantha':44,\n",
    "    'Gill':51,\n",
    "    'Barry':53\n",
    "}     \n",
    "dict1"
   ]
  },
  {
   "cell_type": "markdown",
   "metadata": {},
   "source": [
    "We can use the key as an index to call values:"
   ]
  },
  {
   "cell_type": "code",
   "execution_count": 3,
   "metadata": {},
   "outputs": [
    {
     "output_type": "execute_result",
     "data": {
      "text/plain": [
       "36"
      ]
     },
     "metadata": {},
     "execution_count": 3
    }
   ],
   "source": [
    "dict1['Tom']"
   ]
  },
  {
   "cell_type": "markdown",
   "metadata": {},
   "source": [
    "We can also add values to our dictionary as follows:"
   ]
  },
  {
   "cell_type": "code",
   "execution_count": 4,
   "metadata": {},
   "outputs": [
    {
     "output_type": "execute_result",
     "data": {
      "text/plain": [
       "{'Alex': 27, 'Tom': 36, 'Samantha': 44, 'Gill': 51, 'Barry': 53, 'Ronnie': 15}"
      ]
     },
     "metadata": {},
     "execution_count": 4
    }
   ],
   "source": [
    "dict1['Ronnie'] = 15\n",
    "dict1"
   ]
  },
  {
   "cell_type": "markdown",
   "metadata": {},
   "source": [
    "Dictionaries also have a set of pre-defined methods for you to use. As before simply type the reference of a dictionary followed by a . and then press tab to bring up a list of available methods."
   ]
  },
  {
   "cell_type": "code",
   "execution_count": 5,
   "metadata": {
    "collapsed": true
   },
   "outputs": [
    {
     "output_type": "error",
     "ename": "SyntaxError",
     "evalue": "invalid syntax (<ipython-input-5-880fd3cb10da>, line 1)",
     "traceback": [
      "\u001b[1;36m  File \u001b[1;32m\"<ipython-input-5-880fd3cb10da>\"\u001b[1;36m, line \u001b[1;32m1\u001b[0m\n\u001b[1;33m    dict1.\u001b[0m\n\u001b[1;37m          ^\u001b[0m\n\u001b[1;31mSyntaxError\u001b[0m\u001b[1;31m:\u001b[0m invalid syntax\n"
     ]
    }
   ],
   "source": [
    "dict1."
   ]
  },
  {
   "cell_type": "markdown",
   "metadata": {},
   "source": [
    "Some useful methods are as follows:"
   ]
  },
  {
   "cell_type": "code",
   "execution_count": 6,
   "metadata": {},
   "outputs": [
    {
     "output_type": "execute_result",
     "data": {
      "text/plain": [
       "dict_keys(['Alex', 'Tom', 'Samantha', 'Gill', 'Barry', 'Ronnie'])"
      ]
     },
     "metadata": {},
     "execution_count": 6
    }
   ],
   "source": [
    "dict1.keys()  # Returns all the keys"
   ]
  },
  {
   "cell_type": "code",
   "execution_count": 7,
   "metadata": {},
   "outputs": [
    {
     "output_type": "execute_result",
     "data": {
      "text/plain": [
       "dict_values([27, 36, 44, 51, 53, 15])"
      ]
     },
     "metadata": {},
     "execution_count": 7
    }
   ],
   "source": [
    "dict1.values()  # Returns all the values\n"
   ]
  },
  {
   "cell_type": "code",
   "execution_count": 8,
   "metadata": {},
   "outputs": [
    {
     "output_type": "execute_result",
     "data": {
      "text/plain": [
       "dict_items([('Alex', 27), ('Tom', 36), ('Samantha', 44), ('Gill', 51), ('Barry', 53), ('Ronnie', 15)])"
      ]
     },
     "metadata": {},
     "execution_count": 8
    }
   ],
   "source": [
    "dict1.items() # Returns a list of tuples containing keys and values"
   ]
  },
  {
   "cell_type": "code",
   "execution_count": 9,
   "metadata": {},
   "outputs": [
    {
     "output_type": "execute_result",
     "data": {
      "text/plain": [
       "{'Alex': 27,\n",
       " 'Tom': 36,\n",
       " 'Samantha': 44,\n",
       " 'Gill': 51,\n",
       " 'Barry': 53,\n",
       " 'Ronnie': 15,\n",
       " 'Reggie': 15}"
      ]
     },
     "metadata": {},
     "execution_count": 9
    }
   ],
   "source": [
    "dict2 = {'Reggie':15}\n",
    "dict1.update(dict2)     # Updates the dict with the contents of another dict \n",
    "dict1"
   ]
  },
  {
   "cell_type": "markdown",
   "metadata": {},
   "source": [
    "## Nesting and Data Structures"
   ]
  },
  {
   "cell_type": "markdown",
   "metadata": {},
   "source": [
    "Previously we mentioned that data structures can be used to store other data structures. This is called 'nesting' and can appear a bit daunting at first. However you'll soon see that this is a very powerful way to store data and coupled with our newfound skills in slicing and indexing, we'll have no problem at all dealing with it! Let's imaging we're opening a restaurant and we want to store our menu items in some Python data structures..."
   ]
  },
  {
   "cell_type": "code",
   "execution_count": 10,
   "metadata": {},
   "outputs": [],
   "source": [
    "steak = ['Rump','Sirloin','Fillet']                                    # Steak Menu\n",
    "pizza = ['Margarita','Napoli',['Single Pepperoni','Double Pepperoni']] # Pizza Menu\n",
    "burger = ['Chicken',['Regular','Cheese','Special'],'Vegetarian']       # Burger Menu\n",
    "salad = [None]                                                         # Salad Menu"
   ]
  },
  {
   "cell_type": "markdown",
   "metadata": {},
   "source": [
    "We can access the various nested levels of these lists by specifying multiple indexes:"
   ]
  },
  {
   "cell_type": "code",
   "execution_count": 11,
   "metadata": {},
   "outputs": [
    {
     "output_type": "execute_result",
     "data": {
      "text/plain": [
       "'Margarita'"
      ]
     },
     "metadata": {},
     "execution_count": 11
    }
   ],
   "source": [
    "pizza[0]     # First index in the pizza menu"
   ]
  },
  {
   "cell_type": "code",
   "execution_count": 12,
   "metadata": {},
   "outputs": [
    {
     "output_type": "execute_result",
     "data": {
      "text/plain": [
       "['Single Pepperoni', 'Double Pepperoni']"
      ]
     },
     "metadata": {},
     "execution_count": 12
    }
   ],
   "source": [
    "pizza[2]     # Third index in the pizza menu"
   ]
  },
  {
   "cell_type": "code",
   "execution_count": null,
   "metadata": {},
   "outputs": [],
   "source": [
    "pizza[2][0] # Third index in the pizza menu, First index of the nested list (pepperoni types)"
   ]
  },
  {
   "cell_type": "code",
   "execution_count": 13,
   "metadata": {},
   "outputs": [
    {
     "output_type": "execute_result",
     "data": {
      "text/plain": [
       "'Double Pepperoni'"
      ]
     },
     "metadata": {},
     "execution_count": 13
    }
   ],
   "source": [
    "pizza[2][1] # Third index in the pizza menu, Second index of the nested list (pepperoni types)"
   ]
  },
  {
   "cell_type": "markdown",
   "metadata": {},
   "source": [
    "If we wanted to store and access all this data from a single data item, we could use a dictionary:"
   ]
  },
  {
   "cell_type": "code",
   "execution_count": 14,
   "metadata": {},
   "outputs": [
    {
     "output_type": "execute_result",
     "data": {
      "text/plain": [
       "{'Steak': ['Rump', 'Sirloin', 'Fillet'],\n",
       " 'Pizza': ['Margarita', 'Napoli', ['Single Pepperoni', 'Double Pepperoni']],\n",
       " 'Burger': ['Chicken', ['Regular', 'Cheese', 'Special'], 'Vegetarian'],\n",
       " 'Salad': [None]}"
      ]
     },
     "metadata": {},
     "execution_count": 14
    }
   ],
   "source": [
    "menu = {\n",
    "    'Steak':steak,\n",
    "    'Pizza':pizza,\n",
    "    'Burger':burger,\n",
    "    'Salad':salad\n",
    "}\n",
    "menu"
   ]
  },
  {
   "cell_type": "markdown",
   "metadata": {},
   "source": [
    "Similar to lists, we can access various levels of the index as follows:"
   ]
  },
  {
   "cell_type": "code",
   "execution_count": 15,
   "metadata": {},
   "outputs": [
    {
     "output_type": "execute_result",
     "data": {
      "text/plain": [
       "['Chicken', ['Regular', 'Cheese', 'Special'], 'Vegetarian']"
      ]
     },
     "metadata": {},
     "execution_count": 15
    }
   ],
   "source": [
    "menu['Burger']      # Return whole the burger menu"
   ]
  },
  {
   "cell_type": "code",
   "execution_count": 16,
   "metadata": {},
   "outputs": [
    {
     "output_type": "execute_result",
     "data": {
      "text/plain": [
       "'Chicken'"
      ]
     },
     "metadata": {},
     "execution_count": 16
    }
   ],
   "source": [
    "menu['Burger'][0]   # Return the first item of the burger menu"
   ]
  },
  {
   "cell_type": "code",
   "execution_count": 17,
   "metadata": {},
   "outputs": [
    {
     "output_type": "execute_result",
     "data": {
      "text/plain": [
       "['Regular', 'Cheese', 'Special']"
      ]
     },
     "metadata": {},
     "execution_count": 17
    }
   ],
   "source": [
    "menu['Burger'][1]   # Return the second item of the burger menu"
   ]
  },
  {
   "cell_type": "code",
   "execution_count": 18,
   "metadata": {},
   "outputs": [
    {
     "output_type": "execute_result",
     "data": {
      "text/plain": [
       "'Cheese'"
      ]
     },
     "metadata": {},
     "execution_count": 18
    }
   ],
   "source": [
    "menu['Burger'][1][1] # Return the second item of the burger menu, and the second item in nested data structure"
   ]
  },
  {
   "cell_type": "code",
   "execution_count": 19,
   "metadata": {},
   "outputs": [
    {
     "output_type": "execute_result",
     "data": {
      "text/plain": [
       "'Single Pepperoni'"
      ]
     },
     "metadata": {},
     "execution_count": 19
    }
   ],
   "source": [
    "menu['Pizza'][2][0] # Return the third item of the pizza menu, and the first item in nested data structure"
   ]
  },
  {
   "cell_type": "markdown",
   "metadata": {},
   "source": [
    "This is a relatively simple example but demonstrates the power and versatility of Python's basic data structures. Let's now meet Tuples!"
   ]
  },
  {
   "cell_type": "markdown",
   "metadata": {},
   "source": [
    "## Tuples"
   ]
  },
  {
   "cell_type": "markdown",
   "metadata": {},
   "source": [
    "A tuple is similar to a list except that it is enclosed within curved brackets:"
   ]
  },
  {
   "cell_type": "code",
   "execution_count": 20,
   "metadata": {},
   "outputs": [
    {
     "output_type": "stream",
     "name": "stdout",
     "text": [
      "<class 'tuple'> (1, 2, 3, 4, 5, 6, 7, 8, 9, 10)\n"
     ]
    }
   ],
   "source": [
    "blank = ()                        # Creating a blank tuple\n",
    "mytuple = (1,2,3,4,5,6,7,8,9,10)  # Creating a tuple with integers\n",
    "print(type(mytuple),mytuple)"
   ]
  },
  {
   "cell_type": "markdown",
   "metadata": {},
   "source": [
    "There is one other important difference... Tuples are immutable. This means that they cannot be changed and makes them useful in situtations where you can be certain that data will not change (e.g. date of birth). They are also considered more efficient to process than lists but this will likely not be notocable until using masses of data!\n",
    "\n",
    "Again, we can bring up a list of available methods by specifying our tuple followed by a . and then pressing tab:"
   ]
  },
  {
   "cell_type": "code",
   "execution_count": null,
   "metadata": {
    "collapsed": true
   },
   "outputs": [],
   "source": [
    "mytuple."
   ]
  },
  {
   "cell_type": "markdown",
   "metadata": {},
   "source": [
    "You'll notice that there are only two methods available for tuples. This is because as they are immutable, there are no methods to change the data or structure of a tuple (e.g. append, sort etc.). For this reason you'll not be likely to use Tuples as much as dictionaries or lists."
   ]
  },
  {
   "cell_type": "markdown",
   "metadata": {},
   "source": [
    "## Sets"
   ]
  },
  {
   "cell_type": "markdown",
   "metadata": {
    "collapsed": true
   },
   "source": [
    "A Set is an unordered collection of unique elements and they can be created using the set() function as follows:"
   ]
  },
  {
   "cell_type": "code",
   "execution_count": 36,
   "metadata": {},
   "outputs": [
    {
     "output_type": "stream",
     "name": "stdout",
     "text": [
      "<class 'set'> {1}\n"
     ]
    }
   ],
   "source": [
    "myset1 = set()    # Creating a blank set\n",
    "myset1.add(1)     # Adding a value to our set\n",
    "print(type(myset1),myset1)"
   ]
  },
  {
   "cell_type": "markdown",
   "metadata": {},
   "source": [
    "We can see that the set is displayed in curly brackets, so don't confuse it with a dictionary! Sets are their own type of object.\n",
    "\n",
    "As with the other data structures we can see a list of available methods as follows:"
   ]
  },
  {
   "cell_type": "code",
   "execution_count": 37,
   "metadata": {
    "collapsed": true
   },
   "outputs": [
    {
     "output_type": "execute_result",
     "data": {
      "text/plain": [
       "{1}"
      ]
     },
     "metadata": {},
     "execution_count": 37
    }
   ],
   "source": [
    "myset1"
   ]
  },
  {
   "cell_type": "markdown",
   "metadata": {},
   "source": [
    "You'll see that a lot of the methods are to do with comparing sets (union, difference, intersection etc.) and this is because one of the primary uses of sets is comparing two unique 'sets' of data to see which values intersect, differ etc.\n",
    "\n",
    "For now, we'll add some more values to our set:"
   ]
  },
  {
   "cell_type": "code",
   "execution_count": 22,
   "metadata": {},
   "outputs": [
    {
     "output_type": "execute_result",
     "data": {
      "text/plain": [
       "{1, 2, 4, 6}"
      ]
     },
     "metadata": {},
     "execution_count": 22
    }
   ],
   "source": [
    "myset1.add(2)\n",
    "myset1.add(4)\n",
    "myset1.add(6)\n",
    "myset1"
   ]
  },
  {
   "cell_type": "markdown",
   "metadata": {},
   "source": [
    "What happens when we try and add a value that's already in our set?"
   ]
  },
  {
   "cell_type": "code",
   "execution_count": 23,
   "metadata": {},
   "outputs": [
    {
     "output_type": "execute_result",
     "data": {
      "text/plain": [
       "{1, 2, 4, 6}"
      ]
     },
     "metadata": {},
     "execution_count": 23
    }
   ],
   "source": [
    "myset1.add(2)\n",
    "myset1"
   ]
  },
  {
   "cell_type": "markdown",
   "metadata": {},
   "source": [
    "Nothing! That's because sets can only contain unique elements. Let's create a second set to do some comparisons with:"
   ]
  },
  {
   "cell_type": "code",
   "execution_count": 24,
   "metadata": {},
   "outputs": [
    {
     "output_type": "execute_result",
     "data": {
      "text/plain": [
       "{2, 4, 5, 6}"
      ]
     },
     "metadata": {},
     "execution_count": 24
    }
   ],
   "source": [
    "myset2 = set()\n",
    "myset2.add(2)\n",
    "myset2.add(4)\n",
    "myset2.add(5)\n",
    "myset2.add(6)\n",
    "myset2"
   ]
  },
  {
   "cell_type": "code",
   "execution_count": 25,
   "metadata": {},
   "outputs": [
    {
     "output_type": "execute_result",
     "data": {
      "text/plain": [
       "{1}"
      ]
     },
     "metadata": {},
     "execution_count": 25
    }
   ],
   "source": [
    "myset1.difference(myset2)     # Returning the values that differ between two sets"
   ]
  },
  {
   "cell_type": "code",
   "execution_count": 26,
   "metadata": {},
   "outputs": [
    {
     "output_type": "execute_result",
     "data": {
      "text/plain": [
       "{2, 4, 6}"
      ]
     },
     "metadata": {},
     "execution_count": 26
    }
   ],
   "source": [
    "myset1.intersection(myset2)   # Returning the values that are the same between two sets"
   ]
  },
  {
   "cell_type": "code",
   "execution_count": 27,
   "metadata": {},
   "outputs": [
    {
     "output_type": "execute_result",
     "data": {
      "text/plain": [
       "{1, 2, 4, 5, 6}"
      ]
     },
     "metadata": {},
     "execution_count": 27
    }
   ],
   "source": [
    "myset1.union(myset2)         # Returning the union (values that are in either set) of the two sets"
   ]
  },
  {
   "cell_type": "markdown",
   "metadata": {},
   "source": [
    "There is more to sets but they are probably the least used of the data structures in Python so we'll not be devoting more time to them here. However feel free to explore them further on your own!"
   ]
  },
  {
   "cell_type": "markdown",
   "metadata": {},
   "source": [
    "## Converting Between Data Structures"
   ]
  },
  {
   "cell_type": "markdown",
   "metadata": {},
   "source": [
    "When using Python for data analysis, you'll find that you spend a lot of time converting data between various data structures. This is because you'll meet a lot of functions in Python Extensions/Modules/Libraries etc. that require data to be supplied in a specific format.\n",
    "\n",
    "This means that being able to convert between data structures is a <b>VERY</b> important skill! Let's start by going back to lists and looking at the ways in which we can convert them to other data structures."
   ]
  },
  {
   "cell_type": "markdown",
   "metadata": {},
   "source": [
    "## Converting Lists"
   ]
  },
  {
   "cell_type": "code",
   "execution_count": 44,
   "metadata": {},
   "outputs": [
    {
     "output_type": "stream",
     "name": "stdout",
     "text": [
      "<class 'tuple'> ('John', 'Paul', 'George', 'Ringo', 'Brian')\n"
     ]
    }
   ],
   "source": [
    "beatles = ['John','Paul','George','Ringo', \"Brian\"]\n",
    "beatles_tuple = tuple(beatles)            # Converting a list to a tuple\n",
    "print(type(beatles_tuple),beatles_tuple)"
   ]
  },
  {
   "cell_type": "code",
   "execution_count": 29,
   "metadata": {},
   "outputs": [
    {
     "output_type": "stream",
     "name": "stdout",
     "text": [
      "<class 'set'> {'Ringo', 'John', 'Paul', 'George'}\n"
     ]
    }
   ],
   "source": [
    "beatles_set = set(beatles)               # Converting a list to a set\n",
    "print(type(beatles_set),beatles_set)"
   ]
  },
  {
   "cell_type": "markdown",
   "metadata": {},
   "source": [
    "You'll remember that Dicts require key/values pairs so we'll create some key values as follows:"
   ]
  },
  {
   "cell_type": "code",
   "execution_count": 45,
   "metadata": {},
   "outputs": [],
   "source": [
    "keys = [1,2,3,4]"
   ]
  },
  {
   "cell_type": "markdown",
   "metadata": {},
   "source": [
    "In order to supply two sets of arguments to the dict() function we have to use a special function called zip(). We'll provide some more info on this really useful function later, but for now just rest easy in the knowledge that zip() is your friend and has done some work for you, and helps us when using 2 separate lists to create a dict:"
   ]
  },
  {
   "cell_type": "code",
   "execution_count": 47,
   "metadata": {},
   "outputs": [
    {
     "output_type": "stream",
     "name": "stdout",
     "text": [
      "{1: 'John', 2: 'Paul', 3: 'George', 4: 'Ringo'}\n['John', 'Paul', 'George', 'Ringo', 'Brian']\n"
     ]
    }
   ],
   "source": [
    "beatles_dict = dict(zip(keys,beatles))\n",
    "print(beatles_dict)\n",
    "print(beatles)\n"
   ]
  },
  {
   "cell_type": "code",
   "execution_count": 43,
   "metadata": {},
   "outputs": [
    {
     "output_type": "error",
     "ename": "AttributeError",
     "evalue": "'_Helper' object has no attribute 'zip'",
     "traceback": [
      "\u001b[1;31m---------------------------------------------------------------------------\u001b[0m",
      "\u001b[1;31mAttributeError\u001b[0m                            Traceback (most recent call last)",
      "\u001b[1;32m<ipython-input-43-d57b94c9f8fc>\u001b[0m in \u001b[0;36m<module>\u001b[1;34m\u001b[0m\n\u001b[1;32m----> 1\u001b[1;33m \u001b[0mhelp\u001b[0m\u001b[1;33m.\u001b[0m\u001b[0mzip\u001b[0m\u001b[1;33m(\u001b[0m\u001b[1;33m)\u001b[0m\u001b[1;33m\u001b[0m\u001b[1;33m\u001b[0m\u001b[0m\n\u001b[0m",
      "\u001b[1;31mAttributeError\u001b[0m: '_Helper' object has no attribute 'zip'"
     ]
    }
   ],
   "source": [
    "help.zip()"
   ]
  },
  {
   "cell_type": "markdown",
   "metadata": {},
   "source": [
    "## Converting Tuples"
   ]
  },
  {
   "cell_type": "code",
   "execution_count": 32,
   "metadata": {},
   "outputs": [
    {
     "output_type": "stream",
     "name": "stdout",
     "text": [
      "<class 'list'> ['Leonardo', 'Raphael', 'Donatello', 'Michaelangelo']\n"
     ]
    }
   ],
   "source": [
    "turtles = ('Leonardo','Raphael','Donatello','Michaelangelo')\n",
    "turtles_list = list(turtles)              # Converting a tuple to a list\n",
    "print(type(turtles_list),turtles_list)"
   ]
  },
  {
   "cell_type": "code",
   "execution_count": 33,
   "metadata": {},
   "outputs": [
    {
     "output_type": "stream",
     "name": "stdout",
     "text": [
      "<class 'set'> {'Donatello', 'Michaelangelo', 'Leonardo', 'Raphael'}\n"
     ]
    }
   ],
   "source": [
    "turtles_set = set(turtles)              # Converting a tuple to a set\n",
    "print(type(turtles_set),turtles_set)"
   ]
  },
  {
   "cell_type": "code",
   "execution_count": 34,
   "metadata": {},
   "outputs": [
    {
     "output_type": "stream",
     "name": "stdout",
     "text": [
      "<class 'dict'> {1: 'Leonardo', 2: 'Raphael', 3: 'Donatello', 4: 'Michaelangelo'}\n"
     ]
    }
   ],
   "source": [
    "keys = [1,2,3,4]\n",
    "turtles_dict = dict(zip(keys,turtles))\n",
    "turtles_dict\n",
    "print(type(turtles_dict),turtles_dict)"
   ]
  },
  {
   "cell_type": "markdown",
   "metadata": {},
   "source": [
    "I'm sure by now you've noticed a pattern emerging! With a few simple functions we can easily convert between data structures:\n",
    "\n",
    "```\n",
    "list()\n",
    "tuple()\n",
    "set()\n",
    "dict(zip(keys,data))\n",
    "```\n",
    "\n",
    "You can also use these functions to create data structures from individual variables as follows:"
   ]
  },
  {
   "cell_type": "code",
   "execution_count": 35,
   "metadata": {},
   "outputs": [
    {
     "output_type": "stream",
     "name": "stdout",
     "text": [
      "<class 'list'> [123, 456, 'Hello', 'World']\n"
     ]
    }
   ],
   "source": [
    "a = 123\n",
    "b = 456\n",
    "c = 'Hello'\n",
    "d = 'World'\n",
    "\n",
    "\n",
    "e = list([a,b,c,d])\n",
    "print(type(e),e)"
   ]
  },
  {
   "cell_type": "markdown",
   "metadata": {},
   "source": [
    "Remember that most functions in Python will have positional arguments so make sure you gather multiple data items in brackets so as not to confuse Python!"
   ]
  },
  {
   "cell_type": "markdown",
   "metadata": {},
   "source": [
    "## Further Reading"
   ]
  },
  {
   "cell_type": "markdown",
   "metadata": {},
   "source": [
    "[More on Sets](http://www.dotnetperls.com/set-python)"
   ]
  },
  {
   "cell_type": "code",
   "execution_count": 12,
   "metadata": {},
   "outputs": [
    {
     "output_type": "stream",
     "name": "stdout",
     "text": [
      "{'E54000005': 0.023809523809523808, 'E54000006': 0.023809523809523808, 'E54000007': 0.023809523809523808, 'E54000008': 0.023809523809523808, 'E54000009': 0.023809523809523808, 'E54000010': 0.023809523809523808, 'E54000011': 0.023809523809523808, 'E54000012': 0.023809523809523808, 'E54000013': 0.023809523809523808, 'E54000014': 0.023809523809523808, 'E54000015': 0.023809523809523808, 'E54000016': 0.023809523809523808, 'E54000017': 0.023809523809523808, 'E54000018': 0.023809523809523808, 'E54000019': 0.023809523809523808, 'E54000020': 0.023809523809523808, 'E54000021': 0.023809523809523808, 'E54000022': 0.023809523809523808, 'E54000023': 0.023809523809523808, 'E54000024': 0.023809523809523808, 'E54000025': 0.023809523809523808, 'E54000026': 0.023809523809523808, 'E54000027': 0.023809523809523808, 'E54000028': 0.023809523809523808, 'E54000029': 0.023809523809523808, 'E54000030': 0.023809523809523808, 'E54000031': 0.023809523809523808, 'E54000032': 0.023809523809523808, 'E54000033': 0.023809523809523808, 'E54000034': 0.023809523809523808, 'E54000035': 0.023809523809523808, 'E54000036': 0.023809523809523808, 'E54000037': 0.023809523809523808, 'E54000038': 0.023809523809523808, 'E54000039': 0.023809523809523808, 'E54000040': 0.023809523809523808, 'E54000041': 0.023809523809523808, 'E54000042': 0.023809523809523808, 'E54000043': 0.023809523809523808, 'E54000044': 0.023809523809523808, 'E54000048': 0.023809523809523808, 'E54000049': 0.023809523809523808}\n0.023809523809523808\n"
     ]
    }
   ],
   "source": [
    "import pandas as pd\n",
    "STPs = pd.read_csv(filepath_or_buffer='STP.csv')\n",
    "dict_stp = { stp : 1/len(STPs.index) for stp in STPs['stp_id'].tolist() }\n",
    "\n",
    "print(dict_stp)\n",
    "print(1/42)"
   ]
  },
  {
   "cell_type": "code",
   "execution_count": 8,
   "metadata": {},
   "outputs": [
    {
     "output_type": "stream",
     "name": "stdout",
     "text": [
      "Help on function read_csv in module pandas.io.parsers:\n\nread_csv(filepath_or_buffer: Union[str, pathlib.Path, IO[~AnyStr]], sep=',', delimiter=None, header='infer', names=None, index_col=None, usecols=None, squeeze=False, prefix=None, mangle_dupe_cols=True, dtype=None, engine=None, converters=None, true_values=None, false_values=None, skipinitialspace=False, skiprows=None, skipfooter=0, nrows=None, na_values=None, keep_default_na=True, na_filter=True, verbose=False, skip_blank_lines=True, parse_dates=False, infer_datetime_format=False, keep_date_col=False, date_parser=None, dayfirst=False, cache_dates=True, iterator=False, chunksize=None, compression='infer', thousands=None, decimal: str = '.', lineterminator=None, quotechar='\"', quoting=0, doublequote=True, escapechar=None, comment=None, encoding=None, dialect=None, error_bad_lines=True, warn_bad_lines=True, delim_whitespace=False, low_memory=True, memory_map=False, float_precision=None)\n    Read a comma-separated values (csv) file into DataFrame.\n    \n    Also supports optionally iterating or breaking of the file\n    into chunks.\n    \n    Additional help can be found in the online docs for\n    `IO Tools <https://pandas.pydata.org/pandas-docs/stable/user_guide/io.html>`_.\n    \n    Parameters\n    ----------\n    filepath_or_buffer : str, path object or file-like object\n        Any valid string path is acceptable. The string could be a URL. Valid\n        URL schemes include http, ftp, s3, gs, and file. For file URLs, a host is\n        expected. A local file could be: file://localhost/path/to/table.csv.\n    \n        If you want to pass in a path object, pandas accepts any ``os.PathLike``.\n    \n        By file-like object, we refer to objects with a ``read()`` method, such as\n        a file handler (e.g. via builtin ``open`` function) or ``StringIO``.\n    sep : str, default ','\n        Delimiter to use. If sep is None, the C engine cannot automatically detect\n        the separator, but the Python parsing engine can, meaning the latter will\n        be used and automatically detect the separator by Python's builtin sniffer\n        tool, ``csv.Sniffer``. In addition, separators longer than 1 character and\n        different from ``'\\s+'`` will be interpreted as regular expressions and\n        will also force the use of the Python parsing engine. Note that regex\n        delimiters are prone to ignoring quoted data. Regex example: ``'\\r\\t'``.\n    delimiter : str, default ``None``\n        Alias for sep.\n    header : int, list of int, default 'infer'\n        Row number(s) to use as the column names, and the start of the\n        data.  Default behavior is to infer the column names: if no names\n        are passed the behavior is identical to ``header=0`` and column\n        names are inferred from the first line of the file, if column\n        names are passed explicitly then the behavior is identical to\n        ``header=None``. Explicitly pass ``header=0`` to be able to\n        replace existing names. The header can be a list of integers that\n        specify row locations for a multi-index on the columns\n        e.g. [0,1,3]. Intervening rows that are not specified will be\n        skipped (e.g. 2 in this example is skipped). Note that this\n        parameter ignores commented lines and empty lines if\n        ``skip_blank_lines=True``, so ``header=0`` denotes the first line of\n        data rather than the first line of the file.\n    names : array-like, optional\n        List of column names to use. If the file contains a header row,\n        then you should explicitly pass ``header=0`` to override the column names.\n        Duplicates in this list are not allowed.\n    index_col : int, str, sequence of int / str, or False, default ``None``\n      Column(s) to use as the row labels of the ``DataFrame``, either given as\n      string name or column index. If a sequence of int / str is given, a\n      MultiIndex is used.\n    \n      Note: ``index_col=False`` can be used to force pandas to *not* use the first\n      column as the index, e.g. when you have a malformed file with delimiters at\n      the end of each line.\n    usecols : list-like or callable, optional\n        Return a subset of the columns. If list-like, all elements must either\n        be positional (i.e. integer indices into the document columns) or strings\n        that correspond to column names provided either by the user in `names` or\n        inferred from the document header row(s). For example, a valid list-like\n        `usecols` parameter would be ``[0, 1, 2]`` or ``['foo', 'bar', 'baz']``.\n        Element order is ignored, so ``usecols=[0, 1]`` is the same as ``[1, 0]``.\n        To instantiate a DataFrame from ``data`` with element order preserved use\n        ``pd.read_csv(data, usecols=['foo', 'bar'])[['foo', 'bar']]`` for columns\n        in ``['foo', 'bar']`` order or\n        ``pd.read_csv(data, usecols=['foo', 'bar'])[['bar', 'foo']]``\n        for ``['bar', 'foo']`` order.\n    \n        If callable, the callable function will be evaluated against the column\n        names, returning names where the callable function evaluates to True. An\n        example of a valid callable argument would be ``lambda x: x.upper() in\n        ['AAA', 'BBB', 'DDD']``. Using this parameter results in much faster\n        parsing time and lower memory usage.\n    squeeze : bool, default False\n        If the parsed data only contains one column then return a Series.\n    prefix : str, optional\n        Prefix to add to column numbers when no header, e.g. 'X' for X0, X1, ...\n    mangle_dupe_cols : bool, default True\n        Duplicate columns will be specified as 'X', 'X.1', ...'X.N', rather than\n        'X'...'X'. Passing in False will cause data to be overwritten if there\n        are duplicate names in the columns.\n    dtype : Type name or dict of column -> type, optional\n        Data type for data or columns. E.g. {'a': np.float64, 'b': np.int32,\n        'c': 'Int64'}\n        Use `str` or `object` together with suitable `na_values` settings\n        to preserve and not interpret dtype.\n        If converters are specified, they will be applied INSTEAD\n        of dtype conversion.\n    engine : {'c', 'python'}, optional\n        Parser engine to use. The C engine is faster while the python engine is\n        currently more feature-complete.\n    converters : dict, optional\n        Dict of functions for converting values in certain columns. Keys can either\n        be integers or column labels.\n    true_values : list, optional\n        Values to consider as True.\n    false_values : list, optional\n        Values to consider as False.\n    skipinitialspace : bool, default False\n        Skip spaces after delimiter.\n    skiprows : list-like, int or callable, optional\n        Line numbers to skip (0-indexed) or number of lines to skip (int)\n        at the start of the file.\n    \n        If callable, the callable function will be evaluated against the row\n        indices, returning True if the row should be skipped and False otherwise.\n        An example of a valid callable argument would be ``lambda x: x in [0, 2]``.\n    skipfooter : int, default 0\n        Number of lines at bottom of file to skip (Unsupported with engine='c').\n    nrows : int, optional\n        Number of rows of file to read. Useful for reading pieces of large files.\n    na_values : scalar, str, list-like, or dict, optional\n        Additional strings to recognize as NA/NaN. If dict passed, specific\n        per-column NA values.  By default the following values are interpreted as\n        NaN: '', '#N/A', '#N/A N/A', '#NA', '-1.#IND', '-1.#QNAN', '-NaN', '-nan',\n        '1.#IND', '1.#QNAN', '<NA>', 'N/A', 'NA', 'NULL', 'NaN', 'n/a',\n        'nan', 'null'.\n    keep_default_na : bool, default True\n        Whether or not to include the default NaN values when parsing the data.\n        Depending on whether `na_values` is passed in, the behavior is as follows:\n    \n        * If `keep_default_na` is True, and `na_values` are specified, `na_values`\n          is appended to the default NaN values used for parsing.\n        * If `keep_default_na` is True, and `na_values` are not specified, only\n          the default NaN values are used for parsing.\n        * If `keep_default_na` is False, and `na_values` are specified, only\n          the NaN values specified `na_values` are used for parsing.\n        * If `keep_default_na` is False, and `na_values` are not specified, no\n          strings will be parsed as NaN.\n    \n        Note that if `na_filter` is passed in as False, the `keep_default_na` and\n        `na_values` parameters will be ignored.\n    na_filter : bool, default True\n        Detect missing value markers (empty strings and the value of na_values). In\n        data without any NAs, passing na_filter=False can improve the performance\n        of reading a large file.\n    verbose : bool, default False\n        Indicate number of NA values placed in non-numeric columns.\n    skip_blank_lines : bool, default True\n        If True, skip over blank lines rather than interpreting as NaN values.\n    parse_dates : bool or list of int or names or list of lists or dict, default False\n        The behavior is as follows:\n    \n        * boolean. If True -> try parsing the index.\n        * list of int or names. e.g. If [1, 2, 3] -> try parsing columns 1, 2, 3\n          each as a separate date column.\n        * list of lists. e.g.  If [[1, 3]] -> combine columns 1 and 3 and parse as\n          a single date column.\n        * dict, e.g. {'foo' : [1, 3]} -> parse columns 1, 3 as date and call\n          result 'foo'\n    \n        If a column or index cannot be represented as an array of datetimes,\n        say because of an unparseable value or a mixture of timezones, the column\n        or index will be returned unaltered as an object data type. For\n        non-standard datetime parsing, use ``pd.to_datetime`` after\n        ``pd.read_csv``. To parse an index or column with a mixture of timezones,\n        specify ``date_parser`` to be a partially-applied\n        :func:`pandas.to_datetime` with ``utc=True``. See\n        :ref:`io.csv.mixed_timezones` for more.\n    \n        Note: A fast-path exists for iso8601-formatted dates.\n    infer_datetime_format : bool, default False\n        If True and `parse_dates` is enabled, pandas will attempt to infer the\n        format of the datetime strings in the columns, and if it can be inferred,\n        switch to a faster method of parsing them. In some cases this can increase\n        the parsing speed by 5-10x.\n    keep_date_col : bool, default False\n        If True and `parse_dates` specifies combining multiple columns then\n        keep the original columns.\n    date_parser : function, optional\n        Function to use for converting a sequence of string columns to an array of\n        datetime instances. The default uses ``dateutil.parser.parser`` to do the\n        conversion. Pandas will try to call `date_parser` in three different ways,\n        advancing to the next if an exception occurs: 1) Pass one or more arrays\n        (as defined by `parse_dates`) as arguments; 2) concatenate (row-wise) the\n        string values from the columns defined by `parse_dates` into a single array\n        and pass that; and 3) call `date_parser` once for each row using one or\n        more strings (corresponding to the columns defined by `parse_dates`) as\n        arguments.\n    dayfirst : bool, default False\n        DD/MM format dates, international and European format.\n    cache_dates : bool, default True\n        If True, use a cache of unique, converted dates to apply the datetime\n        conversion. May produce significant speed-up when parsing duplicate\n        date strings, especially ones with timezone offsets.\n    \n        .. versionadded:: 0.25.0\n    iterator : bool, default False\n        Return TextFileReader object for iteration or getting chunks with\n        ``get_chunk()``.\n    chunksize : int, optional\n        Return TextFileReader object for iteration.\n        See the `IO Tools docs\n        <https://pandas.pydata.org/pandas-docs/stable/io.html#io-chunking>`_\n        for more information on ``iterator`` and ``chunksize``.\n    compression : {'infer', 'gzip', 'bz2', 'zip', 'xz', None}, default 'infer'\n        For on-the-fly decompression of on-disk data. If 'infer' and\n        `filepath_or_buffer` is path-like, then detect compression from the\n        following extensions: '.gz', '.bz2', '.zip', or '.xz' (otherwise no\n        decompression). If using 'zip', the ZIP file must contain only one data\n        file to be read in. Set to None for no decompression.\n    thousands : str, optional\n        Thousands separator.\n    decimal : str, default '.'\n        Character to recognize as decimal point (e.g. use ',' for European data).\n    lineterminator : str (length 1), optional\n        Character to break file into lines. Only valid with C parser.\n    quotechar : str (length 1), optional\n        The character used to denote the start and end of a quoted item. Quoted\n        items can include the delimiter and it will be ignored.\n    quoting : int or csv.QUOTE_* instance, default 0\n        Control field quoting behavior per ``csv.QUOTE_*`` constants. Use one of\n        QUOTE_MINIMAL (0), QUOTE_ALL (1), QUOTE_NONNUMERIC (2) or QUOTE_NONE (3).\n    doublequote : bool, default ``True``\n       When quotechar is specified and quoting is not ``QUOTE_NONE``, indicate\n       whether or not to interpret two consecutive quotechar elements INSIDE a\n       field as a single ``quotechar`` element.\n    escapechar : str (length 1), optional\n        One-character string used to escape other characters.\n    comment : str, optional\n        Indicates remainder of line should not be parsed. If found at the beginning\n        of a line, the line will be ignored altogether. This parameter must be a\n        single character. Like empty lines (as long as ``skip_blank_lines=True``),\n        fully commented lines are ignored by the parameter `header` but not by\n        `skiprows`. For example, if ``comment='#'``, parsing\n        ``#empty\\na,b,c\\n1,2,3`` with ``header=0`` will result in 'a,b,c' being\n        treated as the header.\n    encoding : str, optional\n        Encoding to use for UTF when reading/writing (ex. 'utf-8'). `List of Python\n        standard encodings\n        <https://docs.python.org/3/library/codecs.html#standard-encodings>`_ .\n    dialect : str or csv.Dialect, optional\n        If provided, this parameter will override values (default or not) for the\n        following parameters: `delimiter`, `doublequote`, `escapechar`,\n        `skipinitialspace`, `quotechar`, and `quoting`. If it is necessary to\n        override values, a ParserWarning will be issued. See csv.Dialect\n        documentation for more details.\n    error_bad_lines : bool, default True\n        Lines with too many fields (e.g. a csv line with too many commas) will by\n        default cause an exception to be raised, and no DataFrame will be returned.\n        If False, then these \"bad lines\" will dropped from the DataFrame that is\n        returned.\n    warn_bad_lines : bool, default True\n        If error_bad_lines is False, and warn_bad_lines is True, a warning for each\n        \"bad line\" will be output.\n    delim_whitespace : bool, default False\n        Specifies whether or not whitespace (e.g. ``' '`` or ``'    '``) will be\n        used as the sep. Equivalent to setting ``sep='\\s+'``. If this option\n        is set to True, nothing should be passed in for the ``delimiter``\n        parameter.\n    low_memory : bool, default True\n        Internally process the file in chunks, resulting in lower memory use\n        while parsing, but possibly mixed type inference.  To ensure no mixed\n        types either set False, or specify the type with the `dtype` parameter.\n        Note that the entire file is read into a single DataFrame regardless,\n        use the `chunksize` or `iterator` parameter to return the data in chunks.\n        (Only valid with C parser).\n    memory_map : bool, default False\n        If a filepath is provided for `filepath_or_buffer`, map the file object\n        directly onto memory and access the data directly from there. Using this\n        option can improve performance because there is no longer any I/O overhead.\n    float_precision : str, optional\n        Specifies which converter the C engine should use for floating-point\n        values. The options are `None` for the ordinary converter,\n        `high` for the high-precision converter, and `round_trip` for the\n        round-trip converter.\n    \n    Returns\n    -------\n    DataFrame or TextParser\n        A comma-separated values (csv) file is returned as two-dimensional\n        data structure with labeled axes.\n    \n    See Also\n    --------\n    DataFrame.to_csv : Write DataFrame to a comma-separated values (csv) file.\n    read_csv : Read a comma-separated values (csv) file into DataFrame.\n    read_fwf : Read a table of fixed-width formatted lines into DataFrame.\n    \n    Examples\n    --------\n    >>> pd.read_csv('data.csv')  # doctest: +SKIP\n\n"
     ]
    }
   ],
   "source": [
    "help(pd.read_csv)"
   ]
  }
 ],
 "metadata": {
  "anaconda-cloud": {},
  "kernelspec": {
   "display_name": "Python 3",
   "language": "python",
   "name": "python3"
  },
  "language_info": {
   "codemirror_mode": {
    "name": "ipython",
    "version": 3
   },
   "file_extension": ".py",
   "mimetype": "text/x-python",
   "name": "python",
   "nbconvert_exporter": "python",
   "pygments_lexer": "ipython3",
   "version": "3.8.5-final"
  }
 },
 "nbformat": 4,
 "nbformat_minor": 1
}