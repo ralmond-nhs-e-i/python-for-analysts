{
 "cells": [
  {
   "cell_type": "markdown",
   "metadata": {},
   "source": [
    "# B03E. Functions Exercises"
   ]
  },
  {
   "cell_type": "markdown",
   "metadata": {},
   "source": [
    "## Introduction to Exercises"
   ]
  },
  {
   "cell_type": "markdown",
   "metadata": {},
   "source": [
    "Welcome to the first set of exercises! Whilst doing these we reccomend that you:\n",
    "\n",
    "1) Refer to the lesson notebooks and your notes in order to answer them but <b>don't</b> copy and paste over from them! You'll learn better if you start committing the code to muscle memory through typing!<br/>\n",
    "2) Go beyond the scope of the exercises wherever you can - feel free to try stuff and experiment. It's unlikely that you'll break anything.<br/>\n",
    "3) Google anything that you want to know more about.<br/>\n",
    "4) Copy code over to your Cookbook for future reference.<br/>\n",
    "5) Have fun =)<br/>"
   ]
  },
  {
   "cell_type": "markdown",
   "metadata": {},
   "source": [
    "#### Exercise 1: Create a function that prints the type and value of an object / variable and use it to evaluate variables a through e below."
   ]
  },
  {
   "cell_type": "code",
   "execution_count": 1,
   "metadata": {
    "collapsed": true
   },
   "outputs": [],
   "source": [
    "a = 'beans'\n",
    "b = 12\n",
    "c = 34.65\n",
    "d = True\n",
    "e = None"
   ]
  },
  {
   "cell_type": "code",
   "execution_count": 2,
   "metadata": {
    "collapsed": false
   },
   "outputs": [
    {
     "output_type": "stream",
     "name": "stdout",
     "text": [
      "beans\n<class 'str'>\n12\n<class 'int'>\n34.65\n<class 'float'>\n"
     ]
    }
   ],
   "source": [
    "def printer1(anything):\n",
    "    print(anything)\n",
    "    print(type(anything))\n",
    "    \n",
    "printer1(a)\n",
    "printer1(b)\n",
    "printer1(c)"
   ]
  },
  {
   "cell_type": "code",
   "execution_count": 4,
   "metadata": {},
   "outputs": [
    {
     "output_type": "stream",
     "name": "stdout",
     "text": [
      "The variable value is beans and it's a <class 'str'> type of variable.\nThe variable value is 12 and it's a <class 'int'> type of variable.\nThe variable value is 34.65 and it's a <class 'float'> type of variable.\nThe variable value is True and it's a <class 'bool'> type of variable.\nThe variable value is None and it's a <class 'NoneType'> type of variable.\n"
     ]
    }
   ],
   "source": [
    "def print_type_and_value_function(value):\n",
    "    print(\"The variable value is {} and it's a {} type of variable.\".format(value, type(value)))\n",
    "\n",
    "print_type_and_value_function(a)\n",
    "print_type_and_value_function(b)\n",
    "print_type_and_value_function(c)\n",
    "print_type_and_value_function(d)\n",
    "print_type_and_value_function(e)"
   ]
  },
  {
   "cell_type": "markdown",
   "metadata": {},
   "source": [
    "#### Exercise 2: Create a function that determines how many letters are in a character string and outputs this in a meaningful statement to the user. Then use it to evaluate variables f through j below:"
   ]
  },
  {
   "cell_type": "code",
   "execution_count": 5,
   "metadata": {
    "collapsed": true
   },
   "outputs": [],
   "source": [
    "f = 'The Shawshank Redemption'\n",
    "g = 'The Godfather'\n",
    "h = 'The Godfather: Part II'\n",
    "i = 'The Dark Knight'\n",
    "j = \"Schindler's List\""
   ]
  },
  {
   "cell_type": "code",
   "execution_count": 23,
   "metadata": {
    "collapsed": false
   },
   "outputs": [
    {
     "name": "stdout",
     "output_type": "stream",
     "text": [
      "The Shawshank Redemption contains 24 characters\n"
     ]
    }
   ],
   "source": [
    "def char(var):\n",
    "    '''Determines how many characters are in a string'''\n",
    "    print(var + \" contains \" + str(len(var)) + \" characters\")\n",
    "    \n",
    "char(f)"
   ]
  },
  {
   "cell_type": "code",
   "execution_count": 7,
   "metadata": {},
   "outputs": [
    {
     "output_type": "stream",
     "name": "stdout",
     "text": [
      "Help on function count_letters_in_str_function in module __main__:\n\ncount_letters_in_str_function(string_variable)\n    This function determines how many letters are in a string and prints\n\nThe Shawshank Redemption contains 24 characters.\nThe Godfather contains 13 characters.\nThe Godfather: Part II contains 22 characters.\nThe Dark Knight contains 15 characters.\nSchindler's List contains 16 characters.\n"
     ]
    }
   ],
   "source": [
    "def count_letters_in_str_function(string_variable):\n",
    "    ''' This function determines how many letters are in a string and prints'''\n",
    "    print(\"{} contains {} characters.\".format(string_variable, str(len(string_variable))))\n",
    "\n",
    "help(count_letters_in_str_function)\n",
    "\n",
    "count_letters_in_str_function(f)\n",
    "count_letters_in_str_function(g)\n",
    "count_letters_in_str_function(h)\n",
    "count_letters_in_str_function(i)\n",
    "count_letters_in_str_function(j)\n"
   ]
  },
  {
   "cell_type": "markdown",
   "metadata": {},
   "source": [
    "#### Exercise 3: Create a function using if/elif/else that determines what mode of transport to take based upon the number of people who want to travel:\n",
    "        \n",
    "1-2: Walk<br/>\n",
    "3-5: Car<br/>\n",
    "6-50: Coach<br/>\n",
    "51-100: Train<br/>\n",
    "101+: Plane<br/>\n",
    "\n",
    "#### Then use this function to evaluate variables k through o:"
   ]
  },
  {
   "cell_type": "code",
   "execution_count": 8,
   "metadata": {
    "collapsed": true
   },
   "outputs": [],
   "source": [
    "k = 56\n",
    "l = 1\n",
    "m = 4\n",
    "n = 180\n",
    "o = 12"
   ]
  },
  {
   "cell_type": "code",
   "execution_count": 16,
   "metadata": {
    "collapsed": false
   },
   "outputs": [],
   "source": [
    "def which_mode_of_transport(num_passengers):\n",
    "    '''\n",
    "    Function which inputs number of passengers and advises on mode of transport accordingly.\n",
    "    '''\n",
    "    if num_passengers <= 0:\n",
    "        print(\"Input is {} which is an invalid number of passengers 0 or less.\".format(num_passengers))\n",
    "    elif num_passengers == 1:\n",
    "        print(\"There is one passenger, therefore they should walk.\")\n",
    "    elif num_passengers <= 2 and num_passengers > 1:\n",
    "        print(\"There are {} passengers, therefore they should walk.\".format(num_passengers))\n",
    "    elif num_passengers <= 5 and num_passengers >= 3:\n",
    "        print(\"There are {} passengers, therefore they should travel by car.\".format(num_passengers))\n",
    "    elif num_passengers <= 50 and num_passengers >= 6:\n",
    "        print(\"There are {} passengers, therefore they should travel by coach.\".format(num_passengers))\n",
    "    elif num_passengers <= 100 and num_passengers >= 51:\n",
    "        print(\"There are {} passengers, therefore they should travel by Train.\".format(num_passengers))\n",
    "    else:\n",
    "        print(\"There are {} passengers, therefore they should travel by Plane\".format(num_passengers))\n",
    "\n"
   ]
  },
  {
   "cell_type": "code",
   "execution_count": 17,
   "metadata": {},
   "outputs": [
    {
     "output_type": "stream",
     "name": "stdout",
     "text": [
      "There are 56 passengers, therefore they should travel by Train.\nThere is one passenger, therefore they should walk.\nThere are 4 passengers, therefore they should travel by car.\nThere are 180 passengers, therefore they should travel by Plane\nThere are 12 passengers, therefore they should travel by coach.\nInput is -10 which is an invalid number of passengers 0 or less.\nHelp on function which_mode_of_transport in module __main__:\n\nwhich_mode_of_transport(num_passengers)\n    Function which inputs number of passengers and advises on mode of transport accordingly.\n\n"
     ]
    }
   ],
   "source": [
    "which_mode_of_transport(k)\n",
    "which_mode_of_transport(l)\n",
    "which_mode_of_transport(m)\n",
    "which_mode_of_transport(n)\n",
    "which_mode_of_transport(o)\n",
    "which_mode_of_transport(-10)\n",
    "help(which_mode_of_transport)"
   ]
  },
  {
   "cell_type": "code",
   "execution_count": null,
   "metadata": {},
   "outputs": [],
   "source": []
  }
 ],
 "metadata": {
  "anaconda-cloud": {},
  "kernelspec": {
   "display_name": "Python 3",
   "language": "python",
   "name": "python3"
  },
  "language_info": {
   "codemirror_mode": {
    "name": "ipython",
    "version": 3
   },
   "file_extension": ".py",
   "mimetype": "text/x-python",
   "name": "python",
   "nbconvert_exporter": "python",
   "pygments_lexer": "ipython3",
   "version": "3.8.5-final"
  }
 },
 "nbformat": 4,
 "nbformat_minor": 0
}